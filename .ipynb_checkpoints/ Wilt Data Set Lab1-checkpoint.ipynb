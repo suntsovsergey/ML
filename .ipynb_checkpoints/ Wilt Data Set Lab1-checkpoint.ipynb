{
 "cells": [
  {
   "cell_type": "markdown",
   "metadata": {},
   "source": [
    "# Wilt Data Set\n",
    "Датасет содержит некоторые данные из исследования дистанционного зондирования Johnson (2013 года). В таблице содержится информация о 4889ти объектах(деревьях). Основной задача: классификация объектов. Дерево относится либо к классу \"w\"(дерево больное), либо к \"n\"(другой растительный покров).\n",
    "Аттрибуты:\n",
    "class: w (больное дерево), n (другой растительный покров)\n",
    "GLCM_Pan: диапазон GLCM (диапазон значений яркости пикселя)\n",
    "Mean_G: объем зеленого (предположительно листвы)\n",
    "Mean_R: объем красного (предположительно листвы)\n",
    "Mean_NIR: значение запасов\n",
    "SD_Pan: стандартное отклонение "
   ]
  },
  {
   "cell_type": "code",
   "execution_count": 1,
   "metadata": {},
   "outputs": [
    {
     "name": "stdout",
     "output_type": "stream",
     "text": [
      "Requirement already satisfied: pandas in /Library/Frameworks/Python.framework/Versions/3.7/lib/python3.7/site-packages (0.25.1)\n",
      "Requirement already satisfied: pytz>=2017.2 in /Library/Frameworks/Python.framework/Versions/3.7/lib/python3.7/site-packages (from pandas) (2019.3)\n",
      "Requirement already satisfied: python-dateutil>=2.6.1 in /Users/macbookpro/Library/Python/3.7/lib/python/site-packages (from pandas) (2.7.5)\n",
      "Requirement already satisfied: numpy>=1.13.3 in /Users/macbookpro/Library/Python/3.7/lib/python/site-packages (from pandas) (1.16.0)\n",
      "Requirement already satisfied: six>=1.5 in /Users/macbookpro/Library/Python/3.7/lib/python/site-packages (from python-dateutil>=2.6.1->pandas) (1.12.0)\n"
     ]
    }
   ],
   "source": [
    "!pip install pandas"
   ]
  },
  {
   "cell_type": "code",
   "execution_count": 2,
   "metadata": {},
   "outputs": [],
   "source": [
    "import numpy as np\n",
    "import matplotlib.pyplot as plt\n",
    "import pandas as pd\n",
    "%matplotlib inline"
   ]
  },
  {
   "cell_type": "markdown",
   "metadata": {},
   "source": [
    "Подгружаем библиотеки"
   ]
  },
  {
   "cell_type": "code",
   "execution_count": 3,
   "metadata": {},
   "outputs": [],
   "source": [
    "data = pd.read_csv('training.csv', sep = ',', engine = 'python')"
   ]
  },
  {
   "cell_type": "code",
   "execution_count": 4,
   "metadata": {},
   "outputs": [
    {
     "name": "stdout",
     "output_type": "stream",
     "text": [
      "(4339, 6)\n"
     ]
    }
   ],
   "source": [
    "print(data.shape)"
   ]
  },
  {
   "cell_type": "markdown",
   "metadata": {},
   "source": [
    "Посмотрим, сколько же столбцов и строк данных нам досталось в тренировочной выборке. 6 столбцов(атрибуты) и 4339 строк(сами объекты)"
   ]
  },
  {
   "cell_type": "code",
   "execution_count": 5,
   "metadata": {},
   "outputs": [
    {
     "data": {
      "text/html": [
       "<div>\n",
       "<style scoped>\n",
       "    .dataframe tbody tr th:only-of-type {\n",
       "        vertical-align: middle;\n",
       "    }\n",
       "\n",
       "    .dataframe tbody tr th {\n",
       "        vertical-align: top;\n",
       "    }\n",
       "\n",
       "    .dataframe thead th {\n",
       "        text-align: right;\n",
       "    }\n",
       "</style>\n",
       "<table border=\"1\" class=\"dataframe\">\n",
       "  <thead>\n",
       "    <tr style=\"text-align: right;\">\n",
       "      <th></th>\n",
       "      <th>class</th>\n",
       "      <th>GLCM_pan</th>\n",
       "      <th>Mean_Green</th>\n",
       "      <th>Mean_Red</th>\n",
       "      <th>Mean_NIR</th>\n",
       "      <th>SD_pan</th>\n",
       "    </tr>\n",
       "  </thead>\n",
       "  <tbody>\n",
       "    <tr>\n",
       "      <td>0</td>\n",
       "      <td>w</td>\n",
       "      <td>120.362774</td>\n",
       "      <td>205.500000</td>\n",
       "      <td>119.395349</td>\n",
       "      <td>416.581395</td>\n",
       "      <td>20.676318</td>\n",
       "    </tr>\n",
       "    <tr>\n",
       "      <td>1</td>\n",
       "      <td>w</td>\n",
       "      <td>124.739583</td>\n",
       "      <td>202.800000</td>\n",
       "      <td>115.333333</td>\n",
       "      <td>354.333333</td>\n",
       "      <td>16.707151</td>\n",
       "    </tr>\n",
       "    <tr>\n",
       "      <td>2</td>\n",
       "      <td>w</td>\n",
       "      <td>134.691964</td>\n",
       "      <td>199.285714</td>\n",
       "      <td>116.857143</td>\n",
       "      <td>477.857143</td>\n",
       "      <td>22.496712</td>\n",
       "    </tr>\n",
       "    <tr>\n",
       "      <td>3</td>\n",
       "      <td>w</td>\n",
       "      <td>127.946309</td>\n",
       "      <td>178.368421</td>\n",
       "      <td>92.368421</td>\n",
       "      <td>278.473684</td>\n",
       "      <td>14.977453</td>\n",
       "    </tr>\n",
       "    <tr>\n",
       "      <td>4</td>\n",
       "      <td>w</td>\n",
       "      <td>135.431548</td>\n",
       "      <td>197.000000</td>\n",
       "      <td>112.690476</td>\n",
       "      <td>532.952381</td>\n",
       "      <td>17.604193</td>\n",
       "    </tr>\n",
       "    <tr>\n",
       "      <td>...</td>\n",
       "      <td>...</td>\n",
       "      <td>...</td>\n",
       "      <td>...</td>\n",
       "      <td>...</td>\n",
       "      <td>...</td>\n",
       "      <td>...</td>\n",
       "    </tr>\n",
       "    <tr>\n",
       "      <td>4334</td>\n",
       "      <td>n</td>\n",
       "      <td>111.568773</td>\n",
       "      <td>203.588235</td>\n",
       "      <td>93.264706</td>\n",
       "      <td>403.735294</td>\n",
       "      <td>26.512777</td>\n",
       "    </tr>\n",
       "    <tr>\n",
       "      <td>4335</td>\n",
       "      <td>n</td>\n",
       "      <td>125.435240</td>\n",
       "      <td>206.394161</td>\n",
       "      <td>93.058394</td>\n",
       "      <td>512.270073</td>\n",
       "      <td>33.466060</td>\n",
       "    </tr>\n",
       "    <tr>\n",
       "      <td>4336</td>\n",
       "      <td>n</td>\n",
       "      <td>132.123859</td>\n",
       "      <td>465.343750</td>\n",
       "      <td>295.333333</td>\n",
       "      <td>499.250000</td>\n",
       "      <td>38.762967</td>\n",
       "    </tr>\n",
       "    <tr>\n",
       "      <td>4337</td>\n",
       "      <td>n</td>\n",
       "      <td>124.469536</td>\n",
       "      <td>215.152632</td>\n",
       "      <td>98.484211</td>\n",
       "      <td>675.915789</td>\n",
       "      <td>28.506542</td>\n",
       "    </tr>\n",
       "    <tr>\n",
       "      <td>4338</td>\n",
       "      <td>n</td>\n",
       "      <td>125.171928</td>\n",
       "      <td>559.048000</td>\n",
       "      <td>365.968000</td>\n",
       "      <td>439.272000</td>\n",
       "      <td>15.392322</td>\n",
       "    </tr>\n",
       "  </tbody>\n",
       "</table>\n",
       "<p>4339 rows × 6 columns</p>\n",
       "</div>"
      ],
      "text/plain": [
       "     class    GLCM_pan  Mean_Green    Mean_Red    Mean_NIR     SD_pan\n",
       "0        w  120.362774  205.500000  119.395349  416.581395  20.676318\n",
       "1        w  124.739583  202.800000  115.333333  354.333333  16.707151\n",
       "2        w  134.691964  199.285714  116.857143  477.857143  22.496712\n",
       "3        w  127.946309  178.368421   92.368421  278.473684  14.977453\n",
       "4        w  135.431548  197.000000  112.690476  532.952381  17.604193\n",
       "...    ...         ...         ...         ...         ...        ...\n",
       "4334     n  111.568773  203.588235   93.264706  403.735294  26.512777\n",
       "4335     n  125.435240  206.394161   93.058394  512.270073  33.466060\n",
       "4336     n  132.123859  465.343750  295.333333  499.250000  38.762967\n",
       "4337     n  124.469536  215.152632   98.484211  675.915789  28.506542\n",
       "4338     n  125.171928  559.048000  365.968000  439.272000  15.392322\n",
       "\n",
       "[4339 rows x 6 columns]"
      ]
     },
     "execution_count": 5,
     "metadata": {},
     "output_type": "execute_result"
    }
   ],
   "source": [
    "data"
   ]
  },
  {
   "cell_type": "code",
   "execution_count": 6,
   "metadata": {},
   "outputs": [
    {
     "data": {
      "text/html": [
       "<div>\n",
       "<style scoped>\n",
       "    .dataframe tbody tr th:only-of-type {\n",
       "        vertical-align: middle;\n",
       "    }\n",
       "\n",
       "    .dataframe tbody tr th {\n",
       "        vertical-align: top;\n",
       "    }\n",
       "\n",
       "    .dataframe thead th {\n",
       "        text-align: right;\n",
       "    }\n",
       "</style>\n",
       "<table border=\"1\" class=\"dataframe\">\n",
       "  <thead>\n",
       "    <tr style=\"text-align: right;\">\n",
       "      <th></th>\n",
       "      <th>class</th>\n",
       "      <th>GLCM_pan</th>\n",
       "      <th>Mean_Green</th>\n",
       "      <th>Mean_Red</th>\n",
       "      <th>Mean_NIR</th>\n",
       "      <th>SD_pan</th>\n",
       "    </tr>\n",
       "  </thead>\n",
       "  <tbody>\n",
       "    <tr>\n",
       "      <td>0</td>\n",
       "      <td>w</td>\n",
       "      <td>120.362774</td>\n",
       "      <td>205.500000</td>\n",
       "      <td>119.395349</td>\n",
       "      <td>416.581395</td>\n",
       "      <td>20.676318</td>\n",
       "    </tr>\n",
       "    <tr>\n",
       "      <td>1</td>\n",
       "      <td>w</td>\n",
       "      <td>124.739583</td>\n",
       "      <td>202.800000</td>\n",
       "      <td>115.333333</td>\n",
       "      <td>354.333333</td>\n",
       "      <td>16.707151</td>\n",
       "    </tr>\n",
       "    <tr>\n",
       "      <td>2</td>\n",
       "      <td>w</td>\n",
       "      <td>134.691964</td>\n",
       "      <td>199.285714</td>\n",
       "      <td>116.857143</td>\n",
       "      <td>477.857143</td>\n",
       "      <td>22.496712</td>\n",
       "    </tr>\n",
       "    <tr>\n",
       "      <td>3</td>\n",
       "      <td>w</td>\n",
       "      <td>127.946309</td>\n",
       "      <td>178.368421</td>\n",
       "      <td>92.368421</td>\n",
       "      <td>278.473684</td>\n",
       "      <td>14.977453</td>\n",
       "    </tr>\n",
       "    <tr>\n",
       "      <td>4</td>\n",
       "      <td>w</td>\n",
       "      <td>135.431548</td>\n",
       "      <td>197.000000</td>\n",
       "      <td>112.690476</td>\n",
       "      <td>532.952381</td>\n",
       "      <td>17.604193</td>\n",
       "    </tr>\n",
       "  </tbody>\n",
       "</table>\n",
       "</div>"
      ],
      "text/plain": [
       "  class    GLCM_pan  Mean_Green    Mean_Red    Mean_NIR     SD_pan\n",
       "0     w  120.362774  205.500000  119.395349  416.581395  20.676318\n",
       "1     w  124.739583  202.800000  115.333333  354.333333  16.707151\n",
       "2     w  134.691964  199.285714  116.857143  477.857143  22.496712\n",
       "3     w  127.946309  178.368421   92.368421  278.473684  14.977453\n",
       "4     w  135.431548  197.000000  112.690476  532.952381  17.604193"
      ]
     },
     "execution_count": 6,
     "metadata": {},
     "output_type": "execute_result"
    }
   ],
   "source": [
    "data.head()"
   ]
  },
  {
   "cell_type": "markdown",
   "metadata": {},
   "source": [
    "Посмотрим на первые 5 строк таблицы"
   ]
  },
  {
   "cell_type": "code",
   "execution_count": 7,
   "metadata": {
    "scrolled": true
   },
   "outputs": [
    {
     "data": {
      "text/html": [
       "<div>\n",
       "<style scoped>\n",
       "    .dataframe tbody tr th:only-of-type {\n",
       "        vertical-align: middle;\n",
       "    }\n",
       "\n",
       "    .dataframe tbody tr th {\n",
       "        vertical-align: top;\n",
       "    }\n",
       "\n",
       "    .dataframe thead th {\n",
       "        text-align: right;\n",
       "    }\n",
       "</style>\n",
       "<table border=\"1\" class=\"dataframe\">\n",
       "  <thead>\n",
       "    <tr style=\"text-align: right;\">\n",
       "      <th></th>\n",
       "      <th>class</th>\n",
       "      <th>GLCM_pan</th>\n",
       "      <th>Mean_Green</th>\n",
       "      <th>Mean_Red</th>\n",
       "      <th>Mean_NIR</th>\n",
       "      <th>SD_pan</th>\n",
       "    </tr>\n",
       "  </thead>\n",
       "  <tbody>\n",
       "    <tr>\n",
       "      <td>4334</td>\n",
       "      <td>n</td>\n",
       "      <td>111.568773</td>\n",
       "      <td>203.588235</td>\n",
       "      <td>93.264706</td>\n",
       "      <td>403.735294</td>\n",
       "      <td>26.512777</td>\n",
       "    </tr>\n",
       "    <tr>\n",
       "      <td>4335</td>\n",
       "      <td>n</td>\n",
       "      <td>125.435240</td>\n",
       "      <td>206.394161</td>\n",
       "      <td>93.058394</td>\n",
       "      <td>512.270073</td>\n",
       "      <td>33.466060</td>\n",
       "    </tr>\n",
       "    <tr>\n",
       "      <td>4336</td>\n",
       "      <td>n</td>\n",
       "      <td>132.123859</td>\n",
       "      <td>465.343750</td>\n",
       "      <td>295.333333</td>\n",
       "      <td>499.250000</td>\n",
       "      <td>38.762967</td>\n",
       "    </tr>\n",
       "    <tr>\n",
       "      <td>4337</td>\n",
       "      <td>n</td>\n",
       "      <td>124.469536</td>\n",
       "      <td>215.152632</td>\n",
       "      <td>98.484211</td>\n",
       "      <td>675.915789</td>\n",
       "      <td>28.506542</td>\n",
       "    </tr>\n",
       "    <tr>\n",
       "      <td>4338</td>\n",
       "      <td>n</td>\n",
       "      <td>125.171928</td>\n",
       "      <td>559.048000</td>\n",
       "      <td>365.968000</td>\n",
       "      <td>439.272000</td>\n",
       "      <td>15.392322</td>\n",
       "    </tr>\n",
       "  </tbody>\n",
       "</table>\n",
       "</div>"
      ],
      "text/plain": [
       "     class    GLCM_pan  Mean_Green    Mean_Red    Mean_NIR     SD_pan\n",
       "4334     n  111.568773  203.588235   93.264706  403.735294  26.512777\n",
       "4335     n  125.435240  206.394161   93.058394  512.270073  33.466060\n",
       "4336     n  132.123859  465.343750  295.333333  499.250000  38.762967\n",
       "4337     n  124.469536  215.152632   98.484211  675.915789  28.506542\n",
       "4338     n  125.171928  559.048000  365.968000  439.272000  15.392322"
      ]
     },
     "execution_count": 7,
     "metadata": {},
     "output_type": "execute_result"
    }
   ],
   "source": [
    "data.tail()"
   ]
  },
  {
   "cell_type": "markdown",
   "metadata": {},
   "source": [
    "Посмотрим на последние 5 строк таблицы"
   ]
  },
  {
   "cell_type": "code",
   "execution_count": 8,
   "metadata": {},
   "outputs": [
    {
     "data": {
      "text/plain": [
       "pandas.core.frame.DataFrame"
      ]
     },
     "execution_count": 8,
     "metadata": {},
     "output_type": "execute_result"
    }
   ],
   "source": [
    "type(data)"
   ]
  },
  {
   "cell_type": "markdown",
   "metadata": {},
   "source": [
    "Посмотрим на тип данных, с которыми будем работать"
   ]
  },
  {
   "cell_type": "code",
   "execution_count": 9,
   "metadata": {},
   "outputs": [
    {
     "data": {
      "text/plain": [
       "pandas.core.series.Series"
      ]
     },
     "execution_count": 9,
     "metadata": {},
     "output_type": "execute_result"
    }
   ],
   "source": [
    "type(data['SD_pan'])"
   ]
  },
  {
   "cell_type": "code",
   "execution_count": 10,
   "metadata": {},
   "outputs": [
    {
     "data": {
      "text/plain": [
       "pandas.core.series.Series"
      ]
     },
     "execution_count": 10,
     "metadata": {},
     "output_type": "execute_result"
    }
   ],
   "source": [
    "type(data['GLCM_pan'])"
   ]
  },
  {
   "cell_type": "code",
   "execution_count": 11,
   "metadata": {},
   "outputs": [
    {
     "data": {
      "text/plain": [
       "pandas.core.series.Series"
      ]
     },
     "execution_count": 11,
     "metadata": {},
     "output_type": "execute_result"
    }
   ],
   "source": [
    "type(data['Mean_Green'])"
   ]
  },
  {
   "cell_type": "code",
   "execution_count": 12,
   "metadata": {},
   "outputs": [
    {
     "data": {
      "text/plain": [
       "pandas.core.series.Series"
      ]
     },
     "execution_count": 12,
     "metadata": {},
     "output_type": "execute_result"
    }
   ],
   "source": [
    "type(data['Mean_Red'])"
   ]
  },
  {
   "cell_type": "code",
   "execution_count": 13,
   "metadata": {},
   "outputs": [
    {
     "data": {
      "text/plain": [
       "pandas.core.series.Series"
      ]
     },
     "execution_count": 13,
     "metadata": {},
     "output_type": "execute_result"
    }
   ],
   "source": [
    "type(data['Mean_NIR'])"
   ]
  },
  {
   "cell_type": "code",
   "execution_count": 14,
   "metadata": {},
   "outputs": [
    {
     "name": "stdout",
     "output_type": "stream",
     "text": [
      "Index(['class', 'GLCM_pan', 'Mean_Green', 'Mean_Red', 'Mean_NIR', 'SD_pan'], dtype='object')\n"
     ]
    }
   ],
   "source": [
    "print(data.columns)"
   ]
  },
  {
   "cell_type": "markdown",
   "metadata": {},
   "source": [
    "Посмотрим название столбцов(они и так видны, но мы же знаем, как можно просто вызвать одну функцию)"
   ]
  },
  {
   "cell_type": "code",
   "execution_count": 15,
   "metadata": {},
   "outputs": [
    {
     "name": "stdout",
     "output_type": "stream",
     "text": [
      "<class 'pandas.core.frame.DataFrame'>\n",
      "RangeIndex: 4339 entries, 0 to 4338\n",
      "Data columns (total 6 columns):\n",
      "class         4339 non-null object\n",
      "GLCM_pan      4339 non-null float64\n",
      "Mean_Green    4339 non-null float64\n",
      "Mean_Red      4339 non-null float64\n",
      "Mean_NIR      4339 non-null float64\n",
      "SD_pan        4339 non-null float64\n",
      "dtypes: float64(5), object(1)\n",
      "memory usage: 203.5+ KB\n"
     ]
    }
   ],
   "source": [
    "data.info()"
   ]
  },
  {
   "cell_type": "markdown",
   "metadata": {},
   "source": [
    "Теперь посмотрим общую информацию о нашей обучающей выборке. Мы видим, что пустые ячейки у нас отсутствуют"
   ]
  },
  {
   "cell_type": "code",
   "execution_count": 16,
   "metadata": {
    "scrolled": false
   },
   "outputs": [
    {
     "data": {
      "text/html": [
       "<div>\n",
       "<style scoped>\n",
       "    .dataframe tbody tr th:only-of-type {\n",
       "        vertical-align: middle;\n",
       "    }\n",
       "\n",
       "    .dataframe tbody tr th {\n",
       "        vertical-align: top;\n",
       "    }\n",
       "\n",
       "    .dataframe thead th {\n",
       "        text-align: right;\n",
       "    }\n",
       "</style>\n",
       "<table border=\"1\" class=\"dataframe\">\n",
       "  <thead>\n",
       "    <tr style=\"text-align: right;\">\n",
       "      <th></th>\n",
       "      <th>GLCM_pan</th>\n",
       "      <th>Mean_Green</th>\n",
       "      <th>Mean_Red</th>\n",
       "      <th>Mean_NIR</th>\n",
       "      <th>SD_pan</th>\n",
       "    </tr>\n",
       "  </thead>\n",
       "  <tbody>\n",
       "    <tr>\n",
       "      <td>count</td>\n",
       "      <td>4339.000000</td>\n",
       "      <td>4339.000000</td>\n",
       "      <td>4339.000000</td>\n",
       "      <td>4339.000000</td>\n",
       "      <td>4339.000000</td>\n",
       "    </tr>\n",
       "    <tr>\n",
       "      <td>mean</td>\n",
       "      <td>126.831298</td>\n",
       "      <td>233.906908</td>\n",
       "      <td>117.292439</td>\n",
       "      <td>534.104683</td>\n",
       "      <td>24.924588</td>\n",
       "    </tr>\n",
       "    <tr>\n",
       "      <td>std</td>\n",
       "      <td>13.735836</td>\n",
       "      <td>60.757687</td>\n",
       "      <td>60.711159</td>\n",
       "      <td>154.495500</td>\n",
       "      <td>11.008303</td>\n",
       "    </tr>\n",
       "    <tr>\n",
       "      <td>min</td>\n",
       "      <td>0.000000</td>\n",
       "      <td>164.625000</td>\n",
       "      <td>59.142857</td>\n",
       "      <td>86.500000</td>\n",
       "      <td>0.000000</td>\n",
       "    </tr>\n",
       "    <tr>\n",
       "      <td>25%</td>\n",
       "      <td>118.589080</td>\n",
       "      <td>206.000000</td>\n",
       "      <td>91.975244</td>\n",
       "      <td>422.875000</td>\n",
       "      <td>18.009143</td>\n",
       "    </tr>\n",
       "    <tr>\n",
       "      <td>50%</td>\n",
       "      <td>127.479167</td>\n",
       "      <td>221.454545</td>\n",
       "      <td>101.727273</td>\n",
       "      <td>528.500000</td>\n",
       "      <td>23.612444</td>\n",
       "    </tr>\n",
       "    <tr>\n",
       "      <td>75%</td>\n",
       "      <td>135.043591</td>\n",
       "      <td>241.791304</td>\n",
       "      <td>116.866071</td>\n",
       "      <td>643.087037</td>\n",
       "      <td>29.899148</td>\n",
       "    </tr>\n",
       "    <tr>\n",
       "      <td>max</td>\n",
       "      <td>183.281250</td>\n",
       "      <td>955.714286</td>\n",
       "      <td>746.333333</td>\n",
       "      <td>1005.516129</td>\n",
       "      <td>156.508431</td>\n",
       "    </tr>\n",
       "  </tbody>\n",
       "</table>\n",
       "</div>"
      ],
      "text/plain": [
       "          GLCM_pan   Mean_Green     Mean_Red     Mean_NIR       SD_pan\n",
       "count  4339.000000  4339.000000  4339.000000  4339.000000  4339.000000\n",
       "mean    126.831298   233.906908   117.292439   534.104683    24.924588\n",
       "std      13.735836    60.757687    60.711159   154.495500    11.008303\n",
       "min       0.000000   164.625000    59.142857    86.500000     0.000000\n",
       "25%     118.589080   206.000000    91.975244   422.875000    18.009143\n",
       "50%     127.479167   221.454545   101.727273   528.500000    23.612444\n",
       "75%     135.043591   241.791304   116.866071   643.087037    29.899148\n",
       "max     183.281250   955.714286   746.333333  1005.516129   156.508431"
      ]
     },
     "execution_count": 16,
     "metadata": {},
     "output_type": "execute_result"
    }
   ],
   "source": [
    "data.describe()"
   ]
  },
  {
   "cell_type": "markdown",
   "metadata": {},
   "source": [
    "Теперь стоит посмотреть общие статистические характеристики наших количественных признаков. Как видно, здесь отсутствует столбец с классом (т.к. этот признак не является количественным)"
   ]
  },
  {
   "cell_type": "code",
   "execution_count": 17,
   "metadata": {},
   "outputs": [
    {
     "data": {
      "image/png": "[encoded data removed]",
      "text/plain": [
       "<Figure size 720x720 with 25 Axes>"
      ]
     },
     "metadata": {
      "needs_background": "light"
     },
     "output_type": "display_data"
    }
   ],
   "source": [
    "from pandas.plotting import scatter_matrix\n",
    "scatter_matrix(data, alpha = .01, figsize = (10, 10))\n",
    "pass"
   ]
  },
  {
   "cell_type": "markdown",
   "metadata": {},
   "source": [
    "Построим гистограмму"
   ]
  },
  {
   "cell_type": "code",
   "execution_count": 18,
   "metadata": {},
   "outputs": [
    {
     "data": {
      "text/html": [
       "<div>\n",
       "<style scoped>\n",
       "    .dataframe tbody tr th:only-of-type {\n",
       "        vertical-align: middle;\n",
       "    }\n",
       "\n",
       "    .dataframe tbody tr th {\n",
       "        vertical-align: top;\n",
       "    }\n",
       "\n",
       "    .dataframe thead th {\n",
       "        text-align: right;\n",
       "    }\n",
       "</style>\n",
       "<table border=\"1\" class=\"dataframe\">\n",
       "  <thead>\n",
       "    <tr style=\"text-align: right;\">\n",
       "      <th></th>\n",
       "      <th>class</th>\n",
       "      <th>GLCM_pan</th>\n",
       "      <th>Mean_Green</th>\n",
       "      <th>Mean_Red</th>\n",
       "      <th>Mean_NIR</th>\n",
       "      <th>SD_pan</th>\n",
       "    </tr>\n",
       "  </thead>\n",
       "  <tbody>\n",
       "    <tr>\n",
       "      <td>count</td>\n",
       "      <td>4339</td>\n",
       "      <td>4339.000000</td>\n",
       "      <td>4339.000000</td>\n",
       "      <td>4339.000000</td>\n",
       "      <td>4339.000000</td>\n",
       "      <td>4339.000000</td>\n",
       "    </tr>\n",
       "    <tr>\n",
       "      <td>unique</td>\n",
       "      <td>2</td>\n",
       "      <td>NaN</td>\n",
       "      <td>NaN</td>\n",
       "      <td>NaN</td>\n",
       "      <td>NaN</td>\n",
       "      <td>NaN</td>\n",
       "    </tr>\n",
       "    <tr>\n",
       "      <td>top</td>\n",
       "      <td>n</td>\n",
       "      <td>NaN</td>\n",
       "      <td>NaN</td>\n",
       "      <td>NaN</td>\n",
       "      <td>NaN</td>\n",
       "      <td>NaN</td>\n",
       "    </tr>\n",
       "    <tr>\n",
       "      <td>freq</td>\n",
       "      <td>4265</td>\n",
       "      <td>NaN</td>\n",
       "      <td>NaN</td>\n",
       "      <td>NaN</td>\n",
       "      <td>NaN</td>\n",
       "      <td>NaN</td>\n",
       "    </tr>\n",
       "    <tr>\n",
       "      <td>mean</td>\n",
       "      <td>NaN</td>\n",
       "      <td>126.831298</td>\n",
       "      <td>233.906908</td>\n",
       "      <td>117.292439</td>\n",
       "      <td>534.104683</td>\n",
       "      <td>24.924588</td>\n",
       "    </tr>\n",
       "    <tr>\n",
       "      <td>std</td>\n",
       "      <td>NaN</td>\n",
       "      <td>13.735836</td>\n",
       "      <td>60.757687</td>\n",
       "      <td>60.711159</td>\n",
       "      <td>154.495500</td>\n",
       "      <td>11.008303</td>\n",
       "    </tr>\n",
       "    <tr>\n",
       "      <td>min</td>\n",
       "      <td>NaN</td>\n",
       "      <td>0.000000</td>\n",
       "      <td>164.625000</td>\n",
       "      <td>59.142857</td>\n",
       "      <td>86.500000</td>\n",
       "      <td>0.000000</td>\n",
       "    </tr>\n",
       "    <tr>\n",
       "      <td>25%</td>\n",
       "      <td>NaN</td>\n",
       "      <td>118.589080</td>\n",
       "      <td>206.000000</td>\n",
       "      <td>91.975244</td>\n",
       "      <td>422.875000</td>\n",
       "      <td>18.009143</td>\n",
       "    </tr>\n",
       "    <tr>\n",
       "      <td>50%</td>\n",
       "      <td>NaN</td>\n",
       "      <td>127.479167</td>\n",
       "      <td>221.454545</td>\n",
       "      <td>101.727273</td>\n",
       "      <td>528.500000</td>\n",
       "      <td>23.612444</td>\n",
       "    </tr>\n",
       "    <tr>\n",
       "      <td>75%</td>\n",
       "      <td>NaN</td>\n",
       "      <td>135.043591</td>\n",
       "      <td>241.791304</td>\n",
       "      <td>116.866071</td>\n",
       "      <td>643.087037</td>\n",
       "      <td>29.899148</td>\n",
       "    </tr>\n",
       "    <tr>\n",
       "      <td>max</td>\n",
       "      <td>NaN</td>\n",
       "      <td>183.281250</td>\n",
       "      <td>955.714286</td>\n",
       "      <td>746.333333</td>\n",
       "      <td>1005.516129</td>\n",
       "      <td>156.508431</td>\n",
       "    </tr>\n",
       "  </tbody>\n",
       "</table>\n",
       "</div>"
      ],
      "text/plain": [
       "       class     GLCM_pan   Mean_Green     Mean_Red     Mean_NIR       SD_pan\n",
       "count   4339  4339.000000  4339.000000  4339.000000  4339.000000  4339.000000\n",
       "unique     2          NaN          NaN          NaN          NaN          NaN\n",
       "top        n          NaN          NaN          NaN          NaN          NaN\n",
       "freq    4265          NaN          NaN          NaN          NaN          NaN\n",
       "mean     NaN   126.831298   233.906908   117.292439   534.104683    24.924588\n",
       "std      NaN    13.735836    60.757687    60.711159   154.495500    11.008303\n",
       "min      NaN     0.000000   164.625000    59.142857    86.500000     0.000000\n",
       "25%      NaN   118.589080   206.000000    91.975244   422.875000    18.009143\n",
       "50%      NaN   127.479167   221.454545   101.727273   528.500000    23.612444\n",
       "75%      NaN   135.043591   241.791304   116.866071   643.087037    29.899148\n",
       "max      NaN   183.281250   955.714286   746.333333  1005.516129   156.508431"
      ]
     },
     "execution_count": 18,
     "metadata": {},
     "output_type": "execute_result"
    }
   ],
   "source": [
    "data.describe(include = 'all')"
   ]
  },
  {
   "cell_type": "markdown",
   "metadata": {},
   "source": [
    "Если мы допишем include = 'all', можно будет посмотреть статистику по всем-всем признакам"
   ]
  },
  {
   "cell_type": "code",
   "execution_count": 19,
   "metadata": {},
   "outputs": [
    {
     "data": {
      "text/html": [
       "<div>\n",
       "<style scoped>\n",
       "    .dataframe tbody tr th:only-of-type {\n",
       "        vertical-align: middle;\n",
       "    }\n",
       "\n",
       "    .dataframe tbody tr th {\n",
       "        vertical-align: top;\n",
       "    }\n",
       "\n",
       "    .dataframe thead th {\n",
       "        text-align: right;\n",
       "    }\n",
       "</style>\n",
       "<table border=\"1\" class=\"dataframe\">\n",
       "  <thead>\n",
       "    <tr style=\"text-align: right;\">\n",
       "      <th></th>\n",
       "      <th>GLCM_pan</th>\n",
       "      <th>Mean_Green</th>\n",
       "      <th>Mean_Red</th>\n",
       "      <th>Mean_NIR</th>\n",
       "      <th>SD_pan</th>\n",
       "    </tr>\n",
       "  </thead>\n",
       "  <tbody>\n",
       "    <tr>\n",
       "      <td>GLCM_pan</td>\n",
       "      <td>1.000000</td>\n",
       "      <td>-0.122384</td>\n",
       "      <td>-0.107166</td>\n",
       "      <td>-0.094263</td>\n",
       "      <td>-0.065023</td>\n",
       "    </tr>\n",
       "    <tr>\n",
       "      <td>Mean_Green</td>\n",
       "      <td>-0.122384</td>\n",
       "      <td>1.000000</td>\n",
       "      <td>0.964682</td>\n",
       "      <td>0.223518</td>\n",
       "      <td>0.246103</td>\n",
       "    </tr>\n",
       "    <tr>\n",
       "      <td>Mean_Red</td>\n",
       "      <td>-0.107166</td>\n",
       "      <td>0.964682</td>\n",
       "      <td>1.000000</td>\n",
       "      <td>0.121230</td>\n",
       "      <td>0.254383</td>\n",
       "    </tr>\n",
       "    <tr>\n",
       "      <td>Mean_NIR</td>\n",
       "      <td>-0.094263</td>\n",
       "      <td>0.223518</td>\n",
       "      <td>0.121230</td>\n",
       "      <td>1.000000</td>\n",
       "      <td>0.120276</td>\n",
       "    </tr>\n",
       "    <tr>\n",
       "      <td>SD_pan</td>\n",
       "      <td>-0.065023</td>\n",
       "      <td>0.246103</td>\n",
       "      <td>0.254383</td>\n",
       "      <td>0.120276</td>\n",
       "      <td>1.000000</td>\n",
       "    </tr>\n",
       "  </tbody>\n",
       "</table>\n",
       "</div>"
      ],
      "text/plain": [
       "            GLCM_pan  Mean_Green  Mean_Red  Mean_NIR    SD_pan\n",
       "GLCM_pan    1.000000   -0.122384 -0.107166 -0.094263 -0.065023\n",
       "Mean_Green -0.122384    1.000000  0.964682  0.223518  0.246103\n",
       "Mean_Red   -0.107166    0.964682  1.000000  0.121230  0.254383\n",
       "Mean_NIR   -0.094263    0.223518  0.121230  1.000000  0.120276\n",
       "SD_pan     -0.065023    0.246103  0.254383  0.120276  1.000000"
      ]
     },
     "execution_count": 19,
     "metadata": {},
     "output_type": "execute_result"
    }
   ],
   "source": [
    "data.corr()"
   ]
  },
  {
   "cell_type": "markdown",
   "metadata": {},
   "source": [
    "Стоит посмотреть на таблицу корреляции между признаками. Видим сильную корреляцию между признаками Mean_Green и Mean_Red (высокий корреляционный коэфициент=0.96...)"
   ]
  },
  {
   "cell_type": "code",
   "execution_count": 20,
   "metadata": {},
   "outputs": [
    {
     "data": {
      "text/html": [
       "<div>\n",
       "<style scoped>\n",
       "    .dataframe tbody tr th:only-of-type {\n",
       "        vertical-align: middle;\n",
       "    }\n",
       "\n",
       "    .dataframe tbody tr th {\n",
       "        vertical-align: top;\n",
       "    }\n",
       "\n",
       "    .dataframe thead th {\n",
       "        text-align: right;\n",
       "    }\n",
       "</style>\n",
       "<table border=\"1\" class=\"dataframe\">\n",
       "  <thead>\n",
       "    <tr style=\"text-align: right;\">\n",
       "      <th></th>\n",
       "      <th>GLCM_pan</th>\n",
       "      <th>Mean_Green</th>\n",
       "      <th>Mean_Red</th>\n",
       "      <th>Mean_NIR</th>\n",
       "      <th>SD_pan</th>\n",
       "    </tr>\n",
       "  </thead>\n",
       "  <tbody>\n",
       "    <tr>\n",
       "      <td>GLCM_pan</td>\n",
       "      <td>1.000000</td>\n",
       "      <td>-0.308103</td>\n",
       "      <td>-0.395809</td>\n",
       "      <td>-0.078710</td>\n",
       "      <td>-0.301669</td>\n",
       "    </tr>\n",
       "    <tr>\n",
       "      <td>Mean_Green</td>\n",
       "      <td>-0.308103</td>\n",
       "      <td>1.000000</td>\n",
       "      <td>0.934136</td>\n",
       "      <td>0.793182</td>\n",
       "      <td>0.504750</td>\n",
       "    </tr>\n",
       "    <tr>\n",
       "      <td>Mean_Red</td>\n",
       "      <td>-0.395809</td>\n",
       "      <td>0.934136</td>\n",
       "      <td>1.000000</td>\n",
       "      <td>0.664420</td>\n",
       "      <td>0.497196</td>\n",
       "    </tr>\n",
       "    <tr>\n",
       "      <td>Mean_NIR</td>\n",
       "      <td>-0.078710</td>\n",
       "      <td>0.793182</td>\n",
       "      <td>0.664420</td>\n",
       "      <td>1.000000</td>\n",
       "      <td>0.583885</td>\n",
       "    </tr>\n",
       "    <tr>\n",
       "      <td>SD_pan</td>\n",
       "      <td>-0.301669</td>\n",
       "      <td>0.504750</td>\n",
       "      <td>0.497196</td>\n",
       "      <td>0.583885</td>\n",
       "      <td>1.000000</td>\n",
       "    </tr>\n",
       "  </tbody>\n",
       "</table>\n",
       "</div>"
      ],
      "text/plain": [
       "            GLCM_pan  Mean_Green  Mean_Red  Mean_NIR    SD_pan\n",
       "GLCM_pan    1.000000   -0.308103 -0.395809 -0.078710 -0.301669\n",
       "Mean_Green -0.308103    1.000000  0.934136  0.793182  0.504750\n",
       "Mean_Red   -0.395809    0.934136  1.000000  0.664420  0.497196\n",
       "Mean_NIR   -0.078710    0.793182  0.664420  1.000000  0.583885\n",
       "SD_pan     -0.301669    0.504750  0.497196  0.583885  1.000000"
      ]
     },
     "execution_count": 20,
     "metadata": {},
     "output_type": "execute_result"
    }
   ],
   "source": [
    "data[data[\"class\"] == 'w'].corr()"
   ]
  },
  {
   "cell_type": "markdown",
   "metadata": {},
   "source": [
    "Посмотрим корреляцию признаков для больных деревьев(класс W)"
   ]
  },
  {
   "cell_type": "code",
   "execution_count": 21,
   "metadata": {
    "scrolled": true
   },
   "outputs": [
    {
     "data": {
      "text/html": [
       "<div>\n",
       "<style scoped>\n",
       "    .dataframe tbody tr th:only-of-type {\n",
       "        vertical-align: middle;\n",
       "    }\n",
       "\n",
       "    .dataframe tbody tr th {\n",
       "        vertical-align: top;\n",
       "    }\n",
       "\n",
       "    .dataframe thead th {\n",
       "        text-align: right;\n",
       "    }\n",
       "</style>\n",
       "<table border=\"1\" class=\"dataframe\">\n",
       "  <thead>\n",
       "    <tr style=\"text-align: right;\">\n",
       "      <th></th>\n",
       "      <th>GLCM_pan</th>\n",
       "      <th>Mean_Green</th>\n",
       "      <th>Mean_Red</th>\n",
       "      <th>Mean_NIR</th>\n",
       "      <th>SD_pan</th>\n",
       "    </tr>\n",
       "  </thead>\n",
       "  <tbody>\n",
       "    <tr>\n",
       "      <td>GLCM_pan</td>\n",
       "      <td>1.000000</td>\n",
       "      <td>-0.121066</td>\n",
       "      <td>-0.106399</td>\n",
       "      <td>-0.093080</td>\n",
       "      <td>-0.062997</td>\n",
       "    </tr>\n",
       "    <tr>\n",
       "      <td>Mean_Green</td>\n",
       "      <td>-0.121066</td>\n",
       "      <td>1.000000</td>\n",
       "      <td>0.967065</td>\n",
       "      <td>0.216821</td>\n",
       "      <td>0.242798</td>\n",
       "    </tr>\n",
       "    <tr>\n",
       "      <td>Mean_Red</td>\n",
       "      <td>-0.106399</td>\n",
       "      <td>0.967065</td>\n",
       "      <td>1.000000</td>\n",
       "      <td>0.120114</td>\n",
       "      <td>0.254281</td>\n",
       "    </tr>\n",
       "    <tr>\n",
       "      <td>Mean_NIR</td>\n",
       "      <td>-0.093080</td>\n",
       "      <td>0.216821</td>\n",
       "      <td>0.120114</td>\n",
       "      <td>1.000000</td>\n",
       "      <td>0.112734</td>\n",
       "    </tr>\n",
       "    <tr>\n",
       "      <td>SD_pan</td>\n",
       "      <td>-0.062997</td>\n",
       "      <td>0.242798</td>\n",
       "      <td>0.254281</td>\n",
       "      <td>0.112734</td>\n",
       "      <td>1.000000</td>\n",
       "    </tr>\n",
       "  </tbody>\n",
       "</table>\n",
       "</div>"
      ],
      "text/plain": [
       "            GLCM_pan  Mean_Green  Mean_Red  Mean_NIR    SD_pan\n",
       "GLCM_pan    1.000000   -0.121066 -0.106399 -0.093080 -0.062997\n",
       "Mean_Green -0.121066    1.000000  0.967065  0.216821  0.242798\n",
       "Mean_Red   -0.106399    0.967065  1.000000  0.120114  0.254281\n",
       "Mean_NIR   -0.093080    0.216821  0.120114  1.000000  0.112734\n",
       "SD_pan     -0.062997    0.242798  0.254281  0.112734  1.000000"
      ]
     },
     "execution_count": 21,
     "metadata": {},
     "output_type": "execute_result"
    }
   ],
   "source": [
    "data[data[\"class\"] == 'n'].corr()"
   ]
  },
  {
   "cell_type": "markdown",
   "metadata": {},
   "source": [
    "А узнаем теперь, какая корреляция между признаками у объектов которые относятся к классу других растительных объектов(класс N)\n",
    "Заметим, что для больных деревьев корреляция между признаками Mean_Green и Mean_NIR значительно выше, чем для остальных растительных объектов."
   ]
  },
  {
   "cell_type": "code",
   "execution_count": 22,
   "metadata": {},
   "outputs": [
    {
     "data": {
      "image/png": "[encoded data removed]",
      "text/plain": [
       "<Figure size 432x288 with 1 Axes>"
      ]
     },
     "metadata": {
      "needs_background": "light"
     },
     "output_type": "display_data"
    }
   ],
   "source": [
    "plt.plot(data[data[\"class\"]=='w']['Mean_Green'], data[data[\"class\"]=='w']['Mean_NIR'], '*', color = 'red', alpha = 0.6)\n",
    "plt.xlabel('Mean_Green')\n",
    "plt.ylabel('Mean_NIR')\n",
    "pass"
   ]
  },
  {
   "cell_type": "markdown",
   "metadata": {},
   "source": [
    "Для удобства построим простую диаграмму рассеяния для класса больных деревьев для параметров:объем зеленой растительности(Mean_Green) и Mean_NIR."
   ]
  },
  {
   "cell_type": "code",
   "execution_count": 23,
   "metadata": {},
   "outputs": [
    {
     "data": {
      "image/png": "[encoded data removed]",
      "text/plain": [
       "<Figure size 432x288 with 1 Axes>"
      ]
     },
     "metadata": {
      "needs_background": "light"
     },
     "output_type": "display_data"
    }
   ],
   "source": [
    "plt.plot(data[data[\"class\"]=='n']['Mean_Green'], data[data[\"class\"]=='n']['Mean_NIR'], '*', color = 'red', alpha = 0.4)\n",
    "plt.xlabel('Mean_Green')\n",
    "plt.ylabel('Mean_NIR')\n",
    "pass"
   ]
  },
  {
   "cell_type": "markdown",
   "metadata": {},
   "source": [
    "Аналогичный график построим и для объектов из класса других растений. Заметим, что для многих объектов из этого класса характерно невысокое(относительно невысокое) значение Mean_Green и при этом различные значения Mean_NIR."
   ]
  },
  {
   "cell_type": "code",
   "execution_count": 24,
   "metadata": {},
   "outputs": [
    {
     "data": {
      "text/plain": [
       "0       False\n",
       "1       False\n",
       "2       False\n",
       "3       False\n",
       "4       False\n",
       "        ...  \n",
       "4334    False\n",
       "4335    False\n",
       "4336     True\n",
       "4337    False\n",
       "4338     True\n",
       "Name: Mean_Green, Length: 4339, dtype: bool"
      ]
     },
     "execution_count": 24,
     "metadata": {},
     "output_type": "execute_result"
    }
   ],
   "source": [
    "data['Mean_Green'] > 250"
   ]
  },
  {
   "cell_type": "code",
   "execution_count": 25,
   "metadata": {
    "scrolled": false
   },
   "outputs": [
    {
     "data": {
      "text/plain": [
       "0    False\n",
       "1    False\n",
       "2    False\n",
       "3    False\n",
       "4    False\n",
       "Name: Mean_Green, dtype: bool"
      ]
     },
     "execution_count": 25,
     "metadata": {},
     "output_type": "execute_result"
    }
   ],
   "source": [
    "(data['Mean_Green'] > 250).head()"
   ]
  },
  {
   "cell_type": "markdown",
   "metadata": {},
   "source": [
    "Выведем первые 5 объектов, для которых значение Mean_Green больше 250"
   ]
  },
  {
   "cell_type": "code",
   "execution_count": 26,
   "metadata": {},
   "outputs": [
    {
     "data": {
      "text/plain": [
       "array(['w', 'n'], dtype=object)"
      ]
     },
     "execution_count": 26,
     "metadata": {},
     "output_type": "execute_result"
    }
   ],
   "source": [
    "data['class'].unique()"
   ]
  },
  {
   "cell_type": "markdown",
   "metadata": {},
   "source": [
    "Выведем уникальные значения для столбца Класс. Замечаем, что у нас всего два уникальных значения для этого столбца"
   ]
  },
  {
   "cell_type": "code",
   "execution_count": 27,
   "metadata": {},
   "outputs": [
    {
     "data": {
      "text/plain": [
       "164.625"
      ]
     },
     "execution_count": 27,
     "metadata": {},
     "output_type": "execute_result"
    }
   ],
   "source": [
    "data['Mean_Green'].min()"
   ]
  },
  {
   "cell_type": "markdown",
   "metadata": {},
   "source": [
    "Посмотрим минимальное значение для столбца Mean_Green"
   ]
  },
  {
   "cell_type": "code",
   "execution_count": 28,
   "metadata": {},
   "outputs": [
    {
     "data": {
      "image/png": "[encoded data removed]",
      "text/plain": [
       "<Figure size 1440x1080 with 1 Axes>"
      ]
     },
     "metadata": {
      "needs_background": "light"
     },
     "output_type": "display_data"
    }
   ],
   "source": [
    "plt.figure(figsize = (20, 15))\n",
    "\n",
    "plt.scatter(data[data['class'] == 'w']['Mean_Green'],\n",
    "            data[data['class'] == 'w']['Mean_NIR'],\n",
    "            alpha = 0.9,\n",
    "            label = 'w',\n",
    "            color = 'r')\n",
    "\n",
    "plt.scatter(data[data['class'] == 'n']['Mean_Green'],\n",
    "            data[data['class'] == 'n']['Mean_NIR'],\n",
    "            alpha = 0.6,\n",
    "            label = 'n',\n",
    "            color = 'g')\n",
    "\n",
    "plt.xlabel('Mean_Green')\n",
    "plt.xticks(range(85, 1006))\n",
    "plt.xlim(164, 956)\n",
    "plt.ylabel('Mean_NIR')\n",
    "plt.legend()\n",
    "plt.grid()"
   ]
  },
  {
   "cell_type": "code",
   "execution_count": 29,
   "metadata": {},
   "outputs": [
    {
     "data": {
      "text/plain": [
       "(4311,)"
      ]
     },
     "execution_count": 29,
     "metadata": {},
     "output_type": "execute_result"
    }
   ],
   "source": [
    "data['SD_pan'].unique().shape"
   ]
  },
  {
   "cell_type": "code",
   "execution_count": 30,
   "metadata": {},
   "outputs": [
    {
     "data": {
      "text/plain": [
       "(4339,)"
      ]
     },
     "execution_count": 30,
     "metadata": {},
     "output_type": "execute_result"
    }
   ],
   "source": [
    "data['SD_pan'].shape"
   ]
  },
  {
   "cell_type": "markdown",
   "metadata": {},
   "source": [
    "Посмотрим, нет ли повторяющихся значений SD_pan для разных объектов. Для этого сравним количество уникальных значений поля и количество всех значений. Понимаем, что есть повторяющиеся значения SD_pan у каких-то элементов датасета."
   ]
  },
  {
   "cell_type": "code",
   "execution_count": 31,
   "metadata": {},
   "outputs": [],
   "source": [
    "y = np.array([1 if it == 'w' else 0 for it in data['class']])"
   ]
  },
  {
   "cell_type": "markdown",
   "metadata": {},
   "source": [
    "Поскольку классов у нас всего два, вполне удобно и практично будет сделать этот признак бинарным: 1, если дерево больно(класс w), в остальных случаях 0.\n"
   ]
  },
  {
   "cell_type": "code",
   "execution_count": 32,
   "metadata": {},
   "outputs": [],
   "source": [
    "data = data.drop(('class'), axis=1)"
   ]
  },
  {
   "cell_type": "code",
   "execution_count": 33,
   "metadata": {},
   "outputs": [
    {
     "name": "stdout",
     "output_type": "stream",
     "text": [
      "(4339,)\n"
     ]
    }
   ],
   "source": [
    "print(y.shape)"
   ]
  },
  {
   "cell_type": "markdown",
   "metadata": {},
   "source": [
    "храним выделенный признак в отдельном векторе"
   ]
  },
  {
   "cell_type": "code",
   "execution_count": 34,
   "metadata": {},
   "outputs": [
    {
     "name": "stdout",
     "output_type": "stream",
     "text": [
      "[]\n"
     ]
    }
   ],
   "source": [
    "categorical_columns = [i for i in data.columns if data[i].dtype.name == 'object']\n",
    "print(categorical_columns)"
   ]
  },
  {
   "cell_type": "markdown",
   "metadata": {},
   "source": [
    "Выбьем столбец с обозначение классов и узнаем, остались ли у нас такие неудобные категориальные признаки. Нет, их больше нет."
   ]
  },
  {
   "cell_type": "code",
   "execution_count": 35,
   "metadata": {},
   "outputs": [
    {
     "name": "stdout",
     "output_type": "stream",
     "text": [
      "['GLCM_pan', 'Mean_Green', 'Mean_Red', 'Mean_NIR', 'SD_pan']\n"
     ]
    }
   ],
   "source": [
    "numerical_columns   = [i for i in data.columns if data[i].dtype.name != 'object']\n",
    "print(numerical_columns)"
   ]
  },
  {
   "cell_type": "markdown",
   "metadata": {},
   "source": [
    "Посмотрим, какие количественные признаки у нас остались."
   ]
  },
  {
   "cell_type": "code",
   "execution_count": 36,
   "metadata": {},
   "outputs": [
    {
     "data": {
      "text/plain": [
       "GLCM_pan      4339\n",
       "Mean_Green    4339\n",
       "Mean_Red      4339\n",
       "Mean_NIR      4339\n",
       "SD_pan        4339\n",
       "dtype: int64"
      ]
     },
     "execution_count": 36,
     "metadata": {},
     "output_type": "execute_result"
    }
   ],
   "source": [
    "data[numerical_columns].count(axis = 0)"
   ]
  },
  {
   "cell_type": "markdown",
   "metadata": {},
   "source": [
    "Попробовали найти пропущеные значения. Их нет."
   ]
  },
  {
   "cell_type": "code",
   "execution_count": 37,
   "metadata": {},
   "outputs": [
    {
     "data": {
      "text/html": [
       "<div>\n",
       "<style scoped>\n",
       "    .dataframe tbody tr th:only-of-type {\n",
       "        vertical-align: middle;\n",
       "    }\n",
       "\n",
       "    .dataframe tbody tr th {\n",
       "        vertical-align: top;\n",
       "    }\n",
       "\n",
       "    .dataframe thead th {\n",
       "        text-align: right;\n",
       "    }\n",
       "</style>\n",
       "<table border=\"1\" class=\"dataframe\">\n",
       "  <thead>\n",
       "    <tr style=\"text-align: right;\">\n",
       "      <th></th>\n",
       "      <th>GLCM_pan</th>\n",
       "      <th>Mean_Green</th>\n",
       "      <th>Mean_Red</th>\n",
       "      <th>Mean_NIR</th>\n",
       "      <th>SD_pan</th>\n",
       "    </tr>\n",
       "  </thead>\n",
       "  <tbody>\n",
       "    <tr>\n",
       "      <td>count</td>\n",
       "      <td>4339.000000</td>\n",
       "      <td>4339.000000</td>\n",
       "      <td>4339.000000</td>\n",
       "      <td>4339.000000</td>\n",
       "      <td>4339.000000</td>\n",
       "    </tr>\n",
       "    <tr>\n",
       "      <td>mean</td>\n",
       "      <td>126.831298</td>\n",
       "      <td>233.906908</td>\n",
       "      <td>117.292439</td>\n",
       "      <td>534.104683</td>\n",
       "      <td>24.924588</td>\n",
       "    </tr>\n",
       "    <tr>\n",
       "      <td>std</td>\n",
       "      <td>13.735836</td>\n",
       "      <td>60.757687</td>\n",
       "      <td>60.711159</td>\n",
       "      <td>154.495500</td>\n",
       "      <td>11.008303</td>\n",
       "    </tr>\n",
       "    <tr>\n",
       "      <td>min</td>\n",
       "      <td>0.000000</td>\n",
       "      <td>164.625000</td>\n",
       "      <td>59.142857</td>\n",
       "      <td>86.500000</td>\n",
       "      <td>0.000000</td>\n",
       "    </tr>\n",
       "    <tr>\n",
       "      <td>25%</td>\n",
       "      <td>118.589080</td>\n",
       "      <td>206.000000</td>\n",
       "      <td>91.975244</td>\n",
       "      <td>422.875000</td>\n",
       "      <td>18.009143</td>\n",
       "    </tr>\n",
       "    <tr>\n",
       "      <td>50%</td>\n",
       "      <td>127.479167</td>\n",
       "      <td>221.454545</td>\n",
       "      <td>101.727273</td>\n",
       "      <td>528.500000</td>\n",
       "      <td>23.612444</td>\n",
       "    </tr>\n",
       "    <tr>\n",
       "      <td>75%</td>\n",
       "      <td>135.043591</td>\n",
       "      <td>241.791304</td>\n",
       "      <td>116.866071</td>\n",
       "      <td>643.087037</td>\n",
       "      <td>29.899148</td>\n",
       "    </tr>\n",
       "    <tr>\n",
       "      <td>max</td>\n",
       "      <td>183.281250</td>\n",
       "      <td>955.714286</td>\n",
       "      <td>746.333333</td>\n",
       "      <td>1005.516129</td>\n",
       "      <td>156.508431</td>\n",
       "    </tr>\n",
       "  </tbody>\n",
       "</table>\n",
       "</div>"
      ],
      "text/plain": [
       "          GLCM_pan   Mean_Green     Mean_Red     Mean_NIR       SD_pan\n",
       "count  4339.000000  4339.000000  4339.000000  4339.000000  4339.000000\n",
       "mean    126.831298   233.906908   117.292439   534.104683    24.924588\n",
       "std      13.735836    60.757687    60.711159   154.495500    11.008303\n",
       "min       0.000000   164.625000    59.142857    86.500000     0.000000\n",
       "25%     118.589080   206.000000    91.975244   422.875000    18.009143\n",
       "50%     127.479167   221.454545   101.727273   528.500000    23.612444\n",
       "75%     135.043591   241.791304   116.866071   643.087037    29.899148\n",
       "max     183.281250   955.714286   746.333333  1005.516129   156.508431"
      ]
     },
     "execution_count": 37,
     "metadata": {},
     "output_type": "execute_result"
    }
   ],
   "source": [
    "data.describe()"
   ]
  },
  {
   "cell_type": "markdown",
   "metadata": {},
   "source": [
    "Проверили, что все элементы таблицы заполнены"
   ]
  },
  {
   "cell_type": "markdown",
   "metadata": {},
   "source": [
    "# Нормализация количественных признаков"
   ]
  },
  {
   "cell_type": "markdown",
   "metadata": {},
   "source": [
    "Т.к. категориальных признаков у нас не осталось, сразу переходим к обработке количнственных признаков."
   ]
  },
  {
   "cell_type": "code",
   "execution_count": 38,
   "metadata": {},
   "outputs": [
    {
     "data": {
      "text/html": [
       "<div>\n",
       "<style scoped>\n",
       "    .dataframe tbody tr th:only-of-type {\n",
       "        vertical-align: middle;\n",
       "    }\n",
       "\n",
       "    .dataframe tbody tr th {\n",
       "        vertical-align: top;\n",
       "    }\n",
       "\n",
       "    .dataframe thead th {\n",
       "        text-align: right;\n",
       "    }\n",
       "</style>\n",
       "<table border=\"1\" class=\"dataframe\">\n",
       "  <thead>\n",
       "    <tr style=\"text-align: right;\">\n",
       "      <th></th>\n",
       "      <th>GLCM_pan</th>\n",
       "      <th>Mean_Green</th>\n",
       "      <th>Mean_Red</th>\n",
       "      <th>Mean_NIR</th>\n",
       "      <th>SD_pan</th>\n",
       "    </tr>\n",
       "  </thead>\n",
       "  <tbody>\n",
       "    <tr>\n",
       "      <td>count</td>\n",
       "      <td>4.339000e+03</td>\n",
       "      <td>4.339000e+03</td>\n",
       "      <td>4.339000e+03</td>\n",
       "      <td>4.339000e+03</td>\n",
       "      <td>4.339000e+03</td>\n",
       "    </tr>\n",
       "    <tr>\n",
       "      <td>mean</td>\n",
       "      <td>-2.132775e-14</td>\n",
       "      <td>-7.239905e-13</td>\n",
       "      <td>-2.611732e-13</td>\n",
       "      <td>-1.678551e-12</td>\n",
       "      <td>6.015787e-14</td>\n",
       "    </tr>\n",
       "    <tr>\n",
       "      <td>std</td>\n",
       "      <td>1.373584e+01</td>\n",
       "      <td>6.075769e+01</td>\n",
       "      <td>6.071116e+01</td>\n",
       "      <td>1.544955e+02</td>\n",
       "      <td>1.100830e+01</td>\n",
       "    </tr>\n",
       "    <tr>\n",
       "      <td>min</td>\n",
       "      <td>-1.268313e+02</td>\n",
       "      <td>-6.928191e+01</td>\n",
       "      <td>-5.814958e+01</td>\n",
       "      <td>-4.476047e+02</td>\n",
       "      <td>-2.492459e+01</td>\n",
       "    </tr>\n",
       "    <tr>\n",
       "      <td>25%</td>\n",
       "      <td>-8.242218e+00</td>\n",
       "      <td>-2.790691e+01</td>\n",
       "      <td>-2.531719e+01</td>\n",
       "      <td>-1.112297e+02</td>\n",
       "      <td>-6.915445e+00</td>\n",
       "    </tr>\n",
       "    <tr>\n",
       "      <td>50%</td>\n",
       "      <td>6.478686e-01</td>\n",
       "      <td>-1.245236e+01</td>\n",
       "      <td>-1.556517e+01</td>\n",
       "      <td>-5.604683e+00</td>\n",
       "      <td>-1.312144e+00</td>\n",
       "    </tr>\n",
       "    <tr>\n",
       "      <td>75%</td>\n",
       "      <td>8.212293e+00</td>\n",
       "      <td>7.884397e+00</td>\n",
       "      <td>-4.263671e-01</td>\n",
       "      <td>1.089824e+02</td>\n",
       "      <td>4.974560e+00</td>\n",
       "    </tr>\n",
       "    <tr>\n",
       "      <td>max</td>\n",
       "      <td>5.644995e+01</td>\n",
       "      <td>7.218074e+02</td>\n",
       "      <td>6.290409e+02</td>\n",
       "      <td>4.714114e+02</td>\n",
       "      <td>1.315838e+02</td>\n",
       "    </tr>\n",
       "  </tbody>\n",
       "</table>\n",
       "</div>"
      ],
      "text/plain": [
       "           GLCM_pan    Mean_Green      Mean_Red      Mean_NIR        SD_pan\n",
       "count  4.339000e+03  4.339000e+03  4.339000e+03  4.339000e+03  4.339000e+03\n",
       "mean  -2.132775e-14 -7.239905e-13 -2.611732e-13 -1.678551e-12  6.015787e-14\n",
       "std    1.373584e+01  6.075769e+01  6.071116e+01  1.544955e+02  1.100830e+01\n",
       "min   -1.268313e+02 -6.928191e+01 -5.814958e+01 -4.476047e+02 -2.492459e+01\n",
       "25%   -8.242218e+00 -2.790691e+01 -2.531719e+01 -1.112297e+02 -6.915445e+00\n",
       "50%    6.478686e-01 -1.245236e+01 -1.556517e+01 -5.604683e+00 -1.312144e+00\n",
       "75%    8.212293e+00  7.884397e+00 -4.263671e-01  1.089824e+02  4.974560e+00\n",
       "max    5.644995e+01  7.218074e+02  6.290409e+02  4.714114e+02  1.315838e+02"
      ]
     },
     "execution_count": 38,
     "metadata": {},
     "output_type": "execute_result"
    }
   ],
   "source": [
    "data_numerical = data[numerical_columns]\n",
    "data_numerical = (data_numerical - data_numerical.mean())\n",
    "data_numerical.describe()"
   ]
  },
  {
   "cell_type": "markdown",
   "metadata": {},
   "source": [
    "Приведем каждый количественный признак к нулевому среднему и единичному среднеквадратичному отклонению"
   ]
  },
  {
   "cell_type": "code",
   "execution_count": 39,
   "metadata": {},
   "outputs": [],
   "source": [
    "X = data\n",
    "feature_names = X.columns"
   ]
  },
  {
   "cell_type": "code",
   "execution_count": 40,
   "metadata": {},
   "outputs": [
    {
     "data": {
      "text/plain": [
       "pandas.core.indexes.base.Index"
      ]
     },
     "execution_count": 40,
     "metadata": {},
     "output_type": "execute_result"
    }
   ],
   "source": [
    "type(feature_names)"
   ]
  },
  {
   "cell_type": "code",
   "execution_count": 41,
   "metadata": {},
   "outputs": [
    {
     "data": {
      "text/plain": [
       "Index(['GLCM_pan', 'Mean_Green', 'Mean_Red', 'Mean_NIR', 'SD_pan'], dtype='object')"
      ]
     },
     "execution_count": 41,
     "metadata": {},
     "output_type": "execute_result"
    }
   ],
   "source": [
    "feature_names"
   ]
  },
  {
   "cell_type": "markdown",
   "metadata": {},
   "source": [
    "для удобства разделяем блок с фитчами и выделенный признак(класс в нашем случае хранится в векторе y)"
   ]
  },
  {
   "cell_type": "code",
   "execution_count": 42,
   "metadata": {},
   "outputs": [
    {
     "name": "stdout",
     "output_type": "stream",
     "text": [
      "(4339, 5)\n",
      "(4339,)\n"
     ]
    }
   ],
   "source": [
    "print(X.shape)\n",
    "print(y.shape)\n",
    "N, d = X.shape"
   ]
  },
  {
   "cell_type": "code",
   "execution_count": 43,
   "metadata": {},
   "outputs": [
    {
     "name": "stdout",
     "output_type": "stream",
     "text": [
      "3037 1302\n"
     ]
    }
   ],
   "source": [
    "from sklearn.model_selection import train_test_split\n",
    "X_train, X_test, y_train, y_test = train_test_split(X, y, test_size = 0.3, random_state = 1)\n",
    "\n",
    "N_train, _ = X_train.shape \n",
    "N_test,  _ = X_test.shape \n",
    "\n",
    "print(N_train, N_test)"
   ]
  },
  {
   "cell_type": "markdown",
   "metadata": {},
   "source": [
    "делим нашу выборку на обучающую и тестовую(70% и 30%)."
   ]
  },
  {
   "cell_type": "markdown",
   "metadata": {},
   "source": [
    "# kNN"
   ]
  },
  {
   "cell_type": "code",
   "execution_count": 44,
   "metadata": {},
   "outputs": [
    {
     "data": {
      "text/plain": [
       "KNeighborsClassifier(algorithm='auto', leaf_size=30, metric='minkowski',\n",
       "                     metric_params=None, n_jobs=None, n_neighbors=5, p=2,\n",
       "                     weights='uniform')"
      ]
     },
     "execution_count": 44,
     "metadata": {},
     "output_type": "execute_result"
    }
   ],
   "source": [
    "from sklearn.neighbors import KNeighborsClassifier\n",
    "\n",
    "knn = KNeighborsClassifier(n_neighbors = 5)\n",
    "knn.fit(X_train, y_train)"
   ]
  },
  {
   "cell_type": "markdown",
   "metadata": {},
   "source": [
    "По умолчанию обычно берут отправное значение равное 5ти для kNN.Итак, проверим значение ошибки для данной ситуации."
   ]
  },
  {
   "cell_type": "code",
   "execution_count": 45,
   "metadata": {
    "scrolled": true
   },
   "outputs": [
    {
     "name": "stdout",
     "output_type": "stream",
     "text": [
      "0.007902535396773132 0.009984639016897081\n"
     ]
    }
   ],
   "source": [
    "knn\n",
    "y_train_predict = knn.predict(X_train)\n",
    "y_test_predict = knn.predict(X_test)\n",
    "\n",
    "err_train = np.mean(y_train != y_train_predict)\n",
    "err_test  = np.mean(y_test  != y_test_predict)\n",
    "\n",
    "print(err_train, err_test)"
   ]
  },
  {
   "cell_type": "code",
   "execution_count": 46,
   "metadata": {},
   "outputs": [
    {
     "data": {
      "text/plain": [
       "0.009984639016897057"
      ]
     },
     "execution_count": 46,
     "metadata": {},
     "output_type": "execute_result"
    }
   ],
   "source": [
    "err_test = 1 - knn.score(X_test, y_test)\n",
    "err_test"
   ]
  },
  {
   "cell_type": "markdown",
   "metadata": {},
   "source": [
    "Посчитаем ошибку другим способом"
   ]
  },
  {
   "cell_type": "code",
   "execution_count": 47,
   "metadata": {
    "scrolled": true
   },
   "outputs": [
    {
     "name": "stdout",
     "output_type": "stream",
     "text": [
      "[[1280    0]\n",
      " [  13    9]]\n"
     ]
    }
   ],
   "source": [
    "from sklearn.metrics import confusion_matrix\n",
    "\n",
    "print(confusion_matrix(y_test, y_test_predict))"
   ]
  },
  {
   "cell_type": "markdown",
   "metadata": {},
   "source": [
    "Построим матрицу Ошибок, чтобы более наглядно увидеть качество работы классификатора "
   ]
  },
  {
   "cell_type": "markdown",
   "metadata": {},
   "source": [
    "# Подбор параметров "
   ]
  },
  {
   "cell_type": "markdown",
   "metadata": {},
   "source": [
    "Поскольку для kNN огромное значение имеет параметр k(какое количество соседние мы рассматриваем), стоит рассмотреть разные значения k и с помощью нахождения минимумальной ошибки перекрестного контроля найти оптимальное значение k. \n",
    "Возьмем значения k: [1,2,3,5,7,9,11,15,20,35,55]"
   ]
  },
  {
   "cell_type": "code",
   "execution_count": 48,
   "metadata": {},
   "outputs": [
    {
     "name": "stdout",
     "output_type": "stream",
     "text": [
      "0.008231807704972005 1\n"
     ]
    }
   ],
   "source": [
    "from sklearn.model_selection import GridSearchCV\n",
    "nnb = [1,2,3,5,7,9,11,15,20,35,55]\n",
    "knn = KNeighborsClassifier()\n",
    "grid = GridSearchCV(knn, param_grid = {'n_neighbors': nnb}, cv=10)\n",
    "grid.fit(X_train, y_train)\n",
    "\n",
    "best_cv_err = 1 - grid.best_score_\n",
    "best_n_neighbors = grid.best_estimator_.n_neighbors\n",
    "print(best_cv_err, best_n_neighbors)"
   ]
  },
  {
   "cell_type": "markdown",
   "metadata": {},
   "source": [
    "Похоже, минимальная ошибка получается при k=1. Проверим ошибку"
   ]
  },
  {
   "cell_type": "code",
   "execution_count": 49,
   "metadata": {},
   "outputs": [
    {
     "name": "stdout",
     "output_type": "stream",
     "text": [
      "0.0 0.007680491551459293\n"
     ]
    }
   ],
   "source": [
    "knn = KNeighborsClassifier(n_neighbors = best_n_neighbors).fit(X_train, y_train)\n",
    "\n",
    "err_train = np.mean(y_train != knn.predict(X_train))\n",
    "err_test  = np.mean(y_test  != knn.predict(X_test))\n",
    "\n",
    "print(err_train, err_test)"
   ]
  },
  {
   "cell_type": "markdown",
   "metadata": {},
   "source": [
    "Можем предположить, что при найденных параметрах ошибка определении класса объекта составляет 0.008.\n",
    "Стоит отметить, что классификация в данном случае и обучение с тестированием проводилось на тренировочных данных.\n",
    "Есть идея объединить и перемешать таблицы с тестовыми и тренировочными данными для получения более универсального классификатора."
   ]
  },
  {
   "cell_type": "markdown",
   "metadata": {},
   "source": [
    "# PCA"
   ]
  },
  {
   "cell_type": "code",
   "execution_count": 50,
   "metadata": {},
   "outputs": [
    {
     "data": {
      "text/plain": [
       "(4339, 5)"
      ]
     },
     "execution_count": 50,
     "metadata": {},
     "output_type": "execute_result"
    }
   ],
   "source": [
    "X.shape"
   ]
  },
  {
   "cell_type": "code",
   "execution_count": 51,
   "metadata": {},
   "outputs": [
    {
     "data": {
      "text/plain": [
       "(4339, 2)"
      ]
     },
     "execution_count": 51,
     "metadata": {},
     "output_type": "execute_result"
    }
   ],
   "source": [
    "from sklearn.decomposition import PCA\n",
    "pca=PCA(n_components=2)\n",
    "pca.fit(X)\n",
    "pca_x=pca.transform(X)\n",
    "pca_x.shape"
   ]
  },
  {
   "cell_type": "code",
   "execution_count": 52,
   "metadata": {},
   "outputs": [],
   "source": [
    "X_train,X_test,y_train,y_test=train_test_split(pca_x,y,test_size=0.33,random_state = 5)"
   ]
  },
  {
   "cell_type": "code",
   "execution_count": 53,
   "metadata": {},
   "outputs": [
    {
     "data": {
      "text/plain": [
       "KNeighborsClassifier(algorithm='auto', leaf_size=30, metric='minkowski',\n",
       "                     metric_params=None, n_jobs=None, n_neighbors=1, p=2,\n",
       "                     weights='uniform')"
      ]
     },
     "execution_count": 53,
     "metadata": {},
     "output_type": "execute_result"
    }
   ],
   "source": [
    "knn = KNeighborsClassifier(n_neighbors=1)\n",
    "knn.fit(X_train, y_train)"
   ]
  },
  {
   "cell_type": "code",
   "execution_count": 54,
   "metadata": {},
   "outputs": [
    {
     "name": "stdout",
     "output_type": "stream",
     "text": [
      "0.0 0.025139664804469275\n"
     ]
    }
   ],
   "source": [
    "y_train_predict = knn.predict(X_train)\n",
    "y_test_predict = knn.predict(X_test)\n",
    "\n",
    "err_train = np.mean(y_train != y_train_predict)\n",
    "err_test  = np.mean(y_test  != y_test_predict)\n",
    "\n",
    "print(err_train, err_test)"
   ]
  },
  {
   "cell_type": "markdown",
   "metadata": {},
   "source": [
    "Метод главных компонент снизил ошибку\n",
    "Построим график зависимости ошибки на тестовой и обучающей выборках от количества компонент"
   ]
  },
  {
   "cell_type": "code",
   "execution_count": 59,
   "metadata": {},
   "outputs": [],
   "source": [
    "components_arr = np.arange(1, 6, 1)\n",
    "test_err = []\n",
    "train_err = []\n",
    "oob_err = []\n",
    "for number in components_arr:\n",
    "    pca = PCA(n_components = number)\n",
    "    pca.fit(X)\n",
    "    pca_x = pca.transform(X)\n",
    "    pca_x_train, pca_x_test, y_train, y_test = train_test_split(pca_x, y, test_size = 0.33, random_state = 1)\n",
    "    knn = KNeighborsClassifier(n_neighbors=1)\n",
    "    knn.fit(X_train, y_train)\n",
    "    \n",
    "    y_train_pred = knn.predict(X_train)\n",
    "    y_test_pred = knn.predict(X_test)\n",
    "    train_err.append(np.mean(y_train != y_train_pred))\n",
    "    test_err.append(np.mean(y_test != y_test_pred))"
   ]
  },
  {
   "cell_type": "code",
   "execution_count": 61,
   "metadata": {},
   "outputs": [
    {
     "data": {
      "image/png": "[encoded data removed]",
      "text/plain": [
       "<Figure size 432x288 with 1 Axes>"
      ]
     },
     "metadata": {
      "needs_background": "light"
     },
     "output_type": "display_data"
    }
   ],
   "source": [
    "plt.plot(components_arr, train_err, 'b-o', label = 'train')\n",
    "plt.plot(components_arr, test_err, 'r-o', label = 'test')\n",
    "plt.xlim([np.min(components_arr), np.max(components_arr)])\n",
    "plt.title('Error vs. Components number')\n",
    "plt.xlabel('Count of component')\n",
    "plt.ylabel('Error')\n",
    "plt.legend()\n",
    "pass"
   ]
  },
  {
   "cell_type": "code",
   "execution_count": null,
   "metadata": {},
   "outputs": [],
   "source": []
  }
 ],
 "metadata": {
  "kernelspec": {
   "display_name": "Python 3",
   "language": "python",
   "name": "python3"
  },
  "language_info": {
   "codemirror_mode": {
    "name": "ipython",
    "version": 3
   },
   "file_extension": ".py",
   "mimetype": "text/x-python",
   "name": "python",
   "nbconvert_exporter": "python",
   "pygments_lexer": "ipython3",
   "version": "3.7.2"
  }
 },
 "nbformat": 4,
 "nbformat_minor": 2
}
