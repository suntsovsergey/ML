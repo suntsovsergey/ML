{
 "cells": [
  {
   "cell_type": "markdown",
   "metadata": {},
   "source": [
    "# Wilt Data Set\n",
    "Датасет содержит некоторые данные из исследования дистанционного зондирования Johnson (2013 года). В таблице содержится информация о 4889ти объектах(деревьях). Основной задача: классификация объектов. Дерево относится либо к классу \"w\"(дерево больное), либо к \"n\"(другой растительный покров).\n",
    "Аттрибуты:\n",
    "class: w (больное дерево), n (другой растительный покров)\n",
    "GLCM_Pan: диапазон GLCM (диапазон значений яркости пикселя)\n",
    "Mean_G: объем зеленого (предположительно листвы)\n",
    "Mean_R: объем красного (предположительно листвы)\n",
    "Mean_NIR: значение запасов\n",
    "SD_Pan: стандартное отклонение "
   ]
  },
  {
   "cell_type": "code",
   "execution_count": 1,
   "metadata": {},
   "outputs": [
    {
     "name": "stdout",
     "output_type": "stream",
     "text": [
      "Requirement already satisfied: pandas in /Library/Frameworks/Python.framework/Versions/3.7/lib/python3.7/site-packages (0.25.1)\r\n",
      "Requirement already satisfied: pytz>=2017.2 in /Library/Frameworks/Python.framework/Versions/3.7/lib/python3.7/site-packages (from pandas) (2019.3)\r\n",
      "Requirement already satisfied: numpy>=1.13.3 in /Users/macbookpro/Library/Python/3.7/lib/python/site-packages (from pandas) (1.16.0)\r\n",
      "Requirement already satisfied: python-dateutil>=2.6.1 in /Users/macbookpro/Library/Python/3.7/lib/python/site-packages (from pandas) (2.7.5)\r\n",
      "Requirement already satisfied: six>=1.5 in /Users/macbookpro/Library/Python/3.7/lib/python/site-packages (from python-dateutil>=2.6.1->pandas) (1.12.0)\r\n"
     ]
    }
   ],
   "source": [
    "!pip install pandas"
   ]
  },
  {
   "cell_type": "code",
   "execution_count": 2,
   "metadata": {},
   "outputs": [],
   "source": [
    "import numpy as np\n",
    "import matplotlib.pyplot as plt\n",
    "import pandas as pd\n",
    "%matplotlib inline"
   ]
  },
  {
   "cell_type": "markdown",
   "metadata": {},
   "source": [
    "Подгружаем библиотеки"
   ]
  },
  {
   "cell_type": "code",
   "execution_count": 3,
   "metadata": {},
   "outputs": [],
   "source": [
    "data = pd.read_csv('training.csv', sep = ',', engine = 'python')"
   ]
  },
  {
   "cell_type": "code",
   "execution_count": 32,
   "metadata": {},
   "outputs": [
    {
     "name": "stdout",
     "output_type": "stream",
     "text": [
      "(4339, 6)\n"
     ]
    }
   ],
   "source": [
    "print(data.shape)"
   ]
  },
  {
   "cell_type": "markdown",
   "metadata": {},
   "source": [
    "Посмотрим, сколько же столбцов и строк данных нам досталось в тренировочной выборке. 6 столбцов(атрибуты) и 4339 строк(сами объекты)"
   ]
  },
  {
   "cell_type": "code",
   "execution_count": 33,
   "metadata": {},
   "outputs": [
    {
     "data": {
      "text/html": [
       "<div>\n",
       "<style scoped>\n",
       "    .dataframe tbody tr th:only-of-type {\n",
       "        vertical-align: middle;\n",
       "    }\n",
       "\n",
       "    .dataframe tbody tr th {\n",
       "        vertical-align: top;\n",
       "    }\n",
       "\n",
       "    .dataframe thead th {\n",
       "        text-align: right;\n",
       "    }\n",
       "</style>\n",
       "<table border=\"1\" class=\"dataframe\">\n",
       "  <thead>\n",
       "    <tr style=\"text-align: right;\">\n",
       "      <th></th>\n",
       "      <th>class</th>\n",
       "      <th>GLCM_pan</th>\n",
       "      <th>Mean_Green</th>\n",
       "      <th>Mean_Red</th>\n",
       "      <th>Mean_NIR</th>\n",
       "      <th>SD_pan</th>\n",
       "    </tr>\n",
       "  </thead>\n",
       "  <tbody>\n",
       "    <tr>\n",
       "      <th>0</th>\n",
       "      <td>w</td>\n",
       "      <td>120.362774</td>\n",
       "      <td>205.500000</td>\n",
       "      <td>119.395349</td>\n",
       "      <td>416.581395</td>\n",
       "      <td>20.676318</td>\n",
       "    </tr>\n",
       "    <tr>\n",
       "      <th>1</th>\n",
       "      <td>w</td>\n",
       "      <td>124.739583</td>\n",
       "      <td>202.800000</td>\n",
       "      <td>115.333333</td>\n",
       "      <td>354.333333</td>\n",
       "      <td>16.707151</td>\n",
       "    </tr>\n",
       "    <tr>\n",
       "      <th>2</th>\n",
       "      <td>w</td>\n",
       "      <td>134.691964</td>\n",
       "      <td>199.285714</td>\n",
       "      <td>116.857143</td>\n",
       "      <td>477.857143</td>\n",
       "      <td>22.496712</td>\n",
       "    </tr>\n",
       "    <tr>\n",
       "      <th>3</th>\n",
       "      <td>w</td>\n",
       "      <td>127.946309</td>\n",
       "      <td>178.368421</td>\n",
       "      <td>92.368421</td>\n",
       "      <td>278.473684</td>\n",
       "      <td>14.977453</td>\n",
       "    </tr>\n",
       "    <tr>\n",
       "      <th>4</th>\n",
       "      <td>w</td>\n",
       "      <td>135.431548</td>\n",
       "      <td>197.000000</td>\n",
       "      <td>112.690476</td>\n",
       "      <td>532.952381</td>\n",
       "      <td>17.604193</td>\n",
       "    </tr>\n",
       "    <tr>\n",
       "      <th>5</th>\n",
       "      <td>w</td>\n",
       "      <td>118.347962</td>\n",
       "      <td>226.150000</td>\n",
       "      <td>138.850000</td>\n",
       "      <td>608.900000</td>\n",
       "      <td>29.072797</td>\n",
       "    </tr>\n",
       "    <tr>\n",
       "      <th>6</th>\n",
       "      <td>w</td>\n",
       "      <td>135.436282</td>\n",
       "      <td>184.500000</td>\n",
       "      <td>95.142857</td>\n",
       "      <td>309.190476</td>\n",
       "      <td>13.055264</td>\n",
       "    </tr>\n",
       "    <tr>\n",
       "      <th>7</th>\n",
       "      <td>w</td>\n",
       "      <td>121.169643</td>\n",
       "      <td>226.000000</td>\n",
       "      <td>146.214286</td>\n",
       "      <td>595.571429</td>\n",
       "      <td>22.808542</td>\n",
       "    </tr>\n",
       "    <tr>\n",
       "      <th>8</th>\n",
       "      <td>w</td>\n",
       "      <td>131.127161</td>\n",
       "      <td>232.784314</td>\n",
       "      <td>144.588235</td>\n",
       "      <td>563.843137</td>\n",
       "      <td>11.948563</td>\n",
       "    </tr>\n",
       "    <tr>\n",
       "      <th>9</th>\n",
       "      <td>w</td>\n",
       "      <td>134.498092</td>\n",
       "      <td>210.212121</td>\n",
       "      <td>116.909091</td>\n",
       "      <td>594.848485</td>\n",
       "      <td>27.937685</td>\n",
       "    </tr>\n",
       "    <tr>\n",
       "      <th>10</th>\n",
       "      <td>w</td>\n",
       "      <td>131.164773</td>\n",
       "      <td>206.681818</td>\n",
       "      <td>114.727273</td>\n",
       "      <td>483.045455</td>\n",
       "      <td>22.903544</td>\n",
       "    </tr>\n",
       "    <tr>\n",
       "      <th>11</th>\n",
       "      <td>w</td>\n",
       "      <td>136.095960</td>\n",
       "      <td>201.400000</td>\n",
       "      <td>111.400000</td>\n",
       "      <td>444.600000</td>\n",
       "      <td>16.553622</td>\n",
       "    </tr>\n",
       "    <tr>\n",
       "      <th>12</th>\n",
       "      <td>w</td>\n",
       "      <td>122.631902</td>\n",
       "      <td>230.560976</td>\n",
       "      <td>142.195122</td>\n",
       "      <td>473.707317</td>\n",
       "      <td>24.521889</td>\n",
       "    </tr>\n",
       "    <tr>\n",
       "      <th>13</th>\n",
       "      <td>w</td>\n",
       "      <td>113.656180</td>\n",
       "      <td>213.107143</td>\n",
       "      <td>129.785714</td>\n",
       "      <td>480.857143</td>\n",
       "      <td>29.237766</td>\n",
       "    </tr>\n",
       "    <tr>\n",
       "      <th>14</th>\n",
       "      <td>w</td>\n",
       "      <td>133.894198</td>\n",
       "      <td>191.621622</td>\n",
       "      <td>115.513514</td>\n",
       "      <td>419.513513</td>\n",
       "      <td>17.489139</td>\n",
       "    </tr>\n",
       "    <tr>\n",
       "      <th>15</th>\n",
       "      <td>w</td>\n",
       "      <td>131.111498</td>\n",
       "      <td>213.666667</td>\n",
       "      <td>125.444444</td>\n",
       "      <td>537.888889</td>\n",
       "      <td>19.434819</td>\n",
       "    </tr>\n",
       "    <tr>\n",
       "      <th>16</th>\n",
       "      <td>w</td>\n",
       "      <td>127.835697</td>\n",
       "      <td>201.358491</td>\n",
       "      <td>116.509434</td>\n",
       "      <td>372.132075</td>\n",
       "      <td>23.929111</td>\n",
       "    </tr>\n",
       "    <tr>\n",
       "      <th>17</th>\n",
       "      <td>w</td>\n",
       "      <td>121.611260</td>\n",
       "      <td>199.744681</td>\n",
       "      <td>121.063830</td>\n",
       "      <td>338.127660</td>\n",
       "      <td>15.019107</td>\n",
       "    </tr>\n",
       "    <tr>\n",
       "      <th>18</th>\n",
       "      <td>w</td>\n",
       "      <td>106.242105</td>\n",
       "      <td>221.750000</td>\n",
       "      <td>140.000000</td>\n",
       "      <td>381.166667</td>\n",
       "      <td>18.903263</td>\n",
       "    </tr>\n",
       "    <tr>\n",
       "      <th>19</th>\n",
       "      <td>w</td>\n",
       "      <td>147.771127</td>\n",
       "      <td>220.111111</td>\n",
       "      <td>123.722222</td>\n",
       "      <td>479.166667</td>\n",
       "      <td>23.337037</td>\n",
       "    </tr>\n",
       "    <tr>\n",
       "      <th>20</th>\n",
       "      <td>w</td>\n",
       "      <td>135.823938</td>\n",
       "      <td>192.232877</td>\n",
       "      <td>115.095890</td>\n",
       "      <td>332.424658</td>\n",
       "      <td>12.805692</td>\n",
       "    </tr>\n",
       "    <tr>\n",
       "      <th>21</th>\n",
       "      <td>w</td>\n",
       "      <td>134.958974</td>\n",
       "      <td>226.673469</td>\n",
       "      <td>141.469388</td>\n",
       "      <td>435.959184</td>\n",
       "      <td>17.606107</td>\n",
       "    </tr>\n",
       "    <tr>\n",
       "      <th>22</th>\n",
       "      <td>w</td>\n",
       "      <td>128.531408</td>\n",
       "      <td>188.984000</td>\n",
       "      <td>93.312000</td>\n",
       "      <td>296.616000</td>\n",
       "      <td>16.932495</td>\n",
       "    </tr>\n",
       "    <tr>\n",
       "      <th>23</th>\n",
       "      <td>w</td>\n",
       "      <td>143.528736</td>\n",
       "      <td>170.363636</td>\n",
       "      <td>78.454545</td>\n",
       "      <td>400.000000</td>\n",
       "      <td>10.832306</td>\n",
       "    </tr>\n",
       "    <tr>\n",
       "      <th>24</th>\n",
       "      <td>w</td>\n",
       "      <td>141.109375</td>\n",
       "      <td>164.625000</td>\n",
       "      <td>68.000000</td>\n",
       "      <td>242.500000</td>\n",
       "      <td>6.753471</td>\n",
       "    </tr>\n",
       "    <tr>\n",
       "      <th>25</th>\n",
       "      <td>w</td>\n",
       "      <td>140.026030</td>\n",
       "      <td>189.896552</td>\n",
       "      <td>89.241379</td>\n",
       "      <td>561.310345</td>\n",
       "      <td>23.837590</td>\n",
       "    </tr>\n",
       "    <tr>\n",
       "      <th>26</th>\n",
       "      <td>w</td>\n",
       "      <td>132.587730</td>\n",
       "      <td>222.392157</td>\n",
       "      <td>133.058824</td>\n",
       "      <td>579.215686</td>\n",
       "      <td>19.832652</td>\n",
       "    </tr>\n",
       "    <tr>\n",
       "      <th>27</th>\n",
       "      <td>w</td>\n",
       "      <td>121.757895</td>\n",
       "      <td>174.000000</td>\n",
       "      <td>92.666667</td>\n",
       "      <td>217.777778</td>\n",
       "      <td>14.055446</td>\n",
       "    </tr>\n",
       "    <tr>\n",
       "      <th>28</th>\n",
       "      <td>w</td>\n",
       "      <td>135.677165</td>\n",
       "      <td>199.750000</td>\n",
       "      <td>105.208333</td>\n",
       "      <td>453.333333</td>\n",
       "      <td>16.185073</td>\n",
       "    </tr>\n",
       "    <tr>\n",
       "      <th>29</th>\n",
       "      <td>w</td>\n",
       "      <td>119.457404</td>\n",
       "      <td>180.741936</td>\n",
       "      <td>93.145161</td>\n",
       "      <td>227.774193</td>\n",
       "      <td>12.293254</td>\n",
       "    </tr>\n",
       "    <tr>\n",
       "      <th>...</th>\n",
       "      <td>...</td>\n",
       "      <td>...</td>\n",
       "      <td>...</td>\n",
       "      <td>...</td>\n",
       "      <td>...</td>\n",
       "      <td>...</td>\n",
       "    </tr>\n",
       "    <tr>\n",
       "      <th>4309</th>\n",
       "      <td>n</td>\n",
       "      <td>108.671171</td>\n",
       "      <td>208.571429</td>\n",
       "      <td>96.500000</td>\n",
       "      <td>438.428571</td>\n",
       "      <td>19.931515</td>\n",
       "    </tr>\n",
       "    <tr>\n",
       "      <th>4310</th>\n",
       "      <td>n</td>\n",
       "      <td>140.338631</td>\n",
       "      <td>202.884615</td>\n",
       "      <td>90.346154</td>\n",
       "      <td>310.692308</td>\n",
       "      <td>15.215950</td>\n",
       "    </tr>\n",
       "    <tr>\n",
       "      <th>4311</th>\n",
       "      <td>n</td>\n",
       "      <td>130.032641</td>\n",
       "      <td>299.369127</td>\n",
       "      <td>182.496644</td>\n",
       "      <td>513.771812</td>\n",
       "      <td>23.469295</td>\n",
       "    </tr>\n",
       "    <tr>\n",
       "      <th>4312</th>\n",
       "      <td>n</td>\n",
       "      <td>134.275424</td>\n",
       "      <td>200.533333</td>\n",
       "      <td>95.566667</td>\n",
       "      <td>220.216667</td>\n",
       "      <td>25.690135</td>\n",
       "    </tr>\n",
       "    <tr>\n",
       "      <th>4313</th>\n",
       "      <td>n</td>\n",
       "      <td>108.482639</td>\n",
       "      <td>369.000000</td>\n",
       "      <td>258.166667</td>\n",
       "      <td>472.666667</td>\n",
       "      <td>33.272027</td>\n",
       "    </tr>\n",
       "    <tr>\n",
       "      <th>4314</th>\n",
       "      <td>n</td>\n",
       "      <td>125.620172</td>\n",
       "      <td>299.033898</td>\n",
       "      <td>185.101695</td>\n",
       "      <td>304.050848</td>\n",
       "      <td>45.282642</td>\n",
       "    </tr>\n",
       "    <tr>\n",
       "      <th>4315</th>\n",
       "      <td>n</td>\n",
       "      <td>125.564466</td>\n",
       "      <td>366.862745</td>\n",
       "      <td>262.901961</td>\n",
       "      <td>473.901961</td>\n",
       "      <td>35.742430</td>\n",
       "    </tr>\n",
       "    <tr>\n",
       "      <th>4316</th>\n",
       "      <td>n</td>\n",
       "      <td>119.715024</td>\n",
       "      <td>216.795918</td>\n",
       "      <td>99.938776</td>\n",
       "      <td>452.176871</td>\n",
       "      <td>29.020238</td>\n",
       "    </tr>\n",
       "    <tr>\n",
       "      <th>4317</th>\n",
       "      <td>n</td>\n",
       "      <td>139.160396</td>\n",
       "      <td>235.000000</td>\n",
       "      <td>120.000000</td>\n",
       "      <td>253.812500</td>\n",
       "      <td>19.641688</td>\n",
       "    </tr>\n",
       "    <tr>\n",
       "      <th>4318</th>\n",
       "      <td>n</td>\n",
       "      <td>129.493820</td>\n",
       "      <td>204.947712</td>\n",
       "      <td>92.366013</td>\n",
       "      <td>382.640523</td>\n",
       "      <td>25.475827</td>\n",
       "    </tr>\n",
       "    <tr>\n",
       "      <th>4319</th>\n",
       "      <td>n</td>\n",
       "      <td>131.851923</td>\n",
       "      <td>328.547739</td>\n",
       "      <td>206.231156</td>\n",
       "      <td>310.648241</td>\n",
       "      <td>15.863861</td>\n",
       "    </tr>\n",
       "    <tr>\n",
       "      <th>4320</th>\n",
       "      <td>n</td>\n",
       "      <td>132.281508</td>\n",
       "      <td>189.761111</td>\n",
       "      <td>83.922222</td>\n",
       "      <td>336.180556</td>\n",
       "      <td>27.000565</td>\n",
       "    </tr>\n",
       "    <tr>\n",
       "      <th>4321</th>\n",
       "      <td>n</td>\n",
       "      <td>120.812009</td>\n",
       "      <td>224.589286</td>\n",
       "      <td>107.151786</td>\n",
       "      <td>578.232143</td>\n",
       "      <td>42.188984</td>\n",
       "    </tr>\n",
       "    <tr>\n",
       "      <th>4322</th>\n",
       "      <td>n</td>\n",
       "      <td>129.850394</td>\n",
       "      <td>285.750000</td>\n",
       "      <td>168.000000</td>\n",
       "      <td>371.750000</td>\n",
       "      <td>32.061464</td>\n",
       "    </tr>\n",
       "    <tr>\n",
       "      <th>4323</th>\n",
       "      <td>n</td>\n",
       "      <td>121.145480</td>\n",
       "      <td>231.481752</td>\n",
       "      <td>113.912409</td>\n",
       "      <td>460.364963</td>\n",
       "      <td>26.106539</td>\n",
       "    </tr>\n",
       "    <tr>\n",
       "      <th>4324</th>\n",
       "      <td>n</td>\n",
       "      <td>142.307018</td>\n",
       "      <td>206.655172</td>\n",
       "      <td>102.172414</td>\n",
       "      <td>524.896552</td>\n",
       "      <td>23.638931</td>\n",
       "    </tr>\n",
       "    <tr>\n",
       "      <th>4325</th>\n",
       "      <td>n</td>\n",
       "      <td>133.919304</td>\n",
       "      <td>174.300000</td>\n",
       "      <td>81.400000</td>\n",
       "      <td>213.300000</td>\n",
       "      <td>9.725450</td>\n",
       "    </tr>\n",
       "    <tr>\n",
       "      <th>4326</th>\n",
       "      <td>n</td>\n",
       "      <td>120.068966</td>\n",
       "      <td>206.648000</td>\n",
       "      <td>93.648000</td>\n",
       "      <td>441.536000</td>\n",
       "      <td>30.646491</td>\n",
       "    </tr>\n",
       "    <tr>\n",
       "      <th>4327</th>\n",
       "      <td>n</td>\n",
       "      <td>120.693452</td>\n",
       "      <td>216.047619</td>\n",
       "      <td>96.976190</td>\n",
       "      <td>336.619048</td>\n",
       "      <td>37.680488</td>\n",
       "    </tr>\n",
       "    <tr>\n",
       "      <th>4328</th>\n",
       "      <td>n</td>\n",
       "      <td>141.383940</td>\n",
       "      <td>257.440000</td>\n",
       "      <td>144.640000</td>\n",
       "      <td>343.360000</td>\n",
       "      <td>39.746240</td>\n",
       "    </tr>\n",
       "    <tr>\n",
       "      <th>4329</th>\n",
       "      <td>n</td>\n",
       "      <td>124.597015</td>\n",
       "      <td>349.500000</td>\n",
       "      <td>223.071429</td>\n",
       "      <td>421.952381</td>\n",
       "      <td>70.283234</td>\n",
       "    </tr>\n",
       "    <tr>\n",
       "      <th>4330</th>\n",
       "      <td>n</td>\n",
       "      <td>120.051968</td>\n",
       "      <td>488.120000</td>\n",
       "      <td>323.928000</td>\n",
       "      <td>561.936000</td>\n",
       "      <td>18.239695</td>\n",
       "    </tr>\n",
       "    <tr>\n",
       "      <th>4331</th>\n",
       "      <td>n</td>\n",
       "      <td>129.857500</td>\n",
       "      <td>333.840000</td>\n",
       "      <td>199.880000</td>\n",
       "      <td>485.160000</td>\n",
       "      <td>34.355786</td>\n",
       "    </tr>\n",
       "    <tr>\n",
       "      <th>4332</th>\n",
       "      <td>n</td>\n",
       "      <td>112.689049</td>\n",
       "      <td>533.063291</td>\n",
       "      <td>368.734177</td>\n",
       "      <td>525.063291</td>\n",
       "      <td>45.605591</td>\n",
       "    </tr>\n",
       "    <tr>\n",
       "      <th>4333</th>\n",
       "      <td>n</td>\n",
       "      <td>139.734592</td>\n",
       "      <td>200.690266</td>\n",
       "      <td>90.584071</td>\n",
       "      <td>450.884956</td>\n",
       "      <td>24.663350</td>\n",
       "    </tr>\n",
       "    <tr>\n",
       "      <th>4334</th>\n",
       "      <td>n</td>\n",
       "      <td>111.568773</td>\n",
       "      <td>203.588235</td>\n",
       "      <td>93.264706</td>\n",
       "      <td>403.735294</td>\n",
       "      <td>26.512777</td>\n",
       "    </tr>\n",
       "    <tr>\n",
       "      <th>4335</th>\n",
       "      <td>n</td>\n",
       "      <td>125.435240</td>\n",
       "      <td>206.394161</td>\n",
       "      <td>93.058394</td>\n",
       "      <td>512.270073</td>\n",
       "      <td>33.466060</td>\n",
       "    </tr>\n",
       "    <tr>\n",
       "      <th>4336</th>\n",
       "      <td>n</td>\n",
       "      <td>132.123859</td>\n",
       "      <td>465.343750</td>\n",
       "      <td>295.333333</td>\n",
       "      <td>499.250000</td>\n",
       "      <td>38.762967</td>\n",
       "    </tr>\n",
       "    <tr>\n",
       "      <th>4337</th>\n",
       "      <td>n</td>\n",
       "      <td>124.469536</td>\n",
       "      <td>215.152632</td>\n",
       "      <td>98.484211</td>\n",
       "      <td>675.915789</td>\n",
       "      <td>28.506542</td>\n",
       "    </tr>\n",
       "    <tr>\n",
       "      <th>4338</th>\n",
       "      <td>n</td>\n",
       "      <td>125.171928</td>\n",
       "      <td>559.048000</td>\n",
       "      <td>365.968000</td>\n",
       "      <td>439.272000</td>\n",
       "      <td>15.392322</td>\n",
       "    </tr>\n",
       "  </tbody>\n",
       "</table>\n",
       "<p>4339 rows × 6 columns</p>\n",
       "</div>"
      ],
      "text/plain": [
       "     class    GLCM_pan  Mean_Green    Mean_Red    Mean_NIR     SD_pan\n",
       "0        w  120.362774  205.500000  119.395349  416.581395  20.676318\n",
       "1        w  124.739583  202.800000  115.333333  354.333333  16.707151\n",
       "2        w  134.691964  199.285714  116.857143  477.857143  22.496712\n",
       "3        w  127.946309  178.368421   92.368421  278.473684  14.977453\n",
       "4        w  135.431548  197.000000  112.690476  532.952381  17.604193\n",
       "5        w  118.347962  226.150000  138.850000  608.900000  29.072797\n",
       "6        w  135.436282  184.500000   95.142857  309.190476  13.055264\n",
       "7        w  121.169643  226.000000  146.214286  595.571429  22.808542\n",
       "8        w  131.127161  232.784314  144.588235  563.843137  11.948563\n",
       "9        w  134.498092  210.212121  116.909091  594.848485  27.937685\n",
       "10       w  131.164773  206.681818  114.727273  483.045455  22.903544\n",
       "11       w  136.095960  201.400000  111.400000  444.600000  16.553622\n",
       "12       w  122.631902  230.560976  142.195122  473.707317  24.521889\n",
       "13       w  113.656180  213.107143  129.785714  480.857143  29.237766\n",
       "14       w  133.894198  191.621622  115.513514  419.513513  17.489139\n",
       "15       w  131.111498  213.666667  125.444444  537.888889  19.434819\n",
       "16       w  127.835697  201.358491  116.509434  372.132075  23.929111\n",
       "17       w  121.611260  199.744681  121.063830  338.127660  15.019107\n",
       "18       w  106.242105  221.750000  140.000000  381.166667  18.903263\n",
       "19       w  147.771127  220.111111  123.722222  479.166667  23.337037\n",
       "20       w  135.823938  192.232877  115.095890  332.424658  12.805692\n",
       "21       w  134.958974  226.673469  141.469388  435.959184  17.606107\n",
       "22       w  128.531408  188.984000   93.312000  296.616000  16.932495\n",
       "23       w  143.528736  170.363636   78.454545  400.000000  10.832306\n",
       "24       w  141.109375  164.625000   68.000000  242.500000   6.753471\n",
       "25       w  140.026030  189.896552   89.241379  561.310345  23.837590\n",
       "26       w  132.587730  222.392157  133.058824  579.215686  19.832652\n",
       "27       w  121.757895  174.000000   92.666667  217.777778  14.055446\n",
       "28       w  135.677165  199.750000  105.208333  453.333333  16.185073\n",
       "29       w  119.457404  180.741936   93.145161  227.774193  12.293254\n",
       "...    ...         ...         ...         ...         ...        ...\n",
       "4309     n  108.671171  208.571429   96.500000  438.428571  19.931515\n",
       "4310     n  140.338631  202.884615   90.346154  310.692308  15.215950\n",
       "4311     n  130.032641  299.369127  182.496644  513.771812  23.469295\n",
       "4312     n  134.275424  200.533333   95.566667  220.216667  25.690135\n",
       "4313     n  108.482639  369.000000  258.166667  472.666667  33.272027\n",
       "4314     n  125.620172  299.033898  185.101695  304.050848  45.282642\n",
       "4315     n  125.564466  366.862745  262.901961  473.901961  35.742430\n",
       "4316     n  119.715024  216.795918   99.938776  452.176871  29.020238\n",
       "4317     n  139.160396  235.000000  120.000000  253.812500  19.641688\n",
       "4318     n  129.493820  204.947712   92.366013  382.640523  25.475827\n",
       "4319     n  131.851923  328.547739  206.231156  310.648241  15.863861\n",
       "4320     n  132.281508  189.761111   83.922222  336.180556  27.000565\n",
       "4321     n  120.812009  224.589286  107.151786  578.232143  42.188984\n",
       "4322     n  129.850394  285.750000  168.000000  371.750000  32.061464\n",
       "4323     n  121.145480  231.481752  113.912409  460.364963  26.106539\n",
       "4324     n  142.307018  206.655172  102.172414  524.896552  23.638931\n",
       "4325     n  133.919304  174.300000   81.400000  213.300000   9.725450\n",
       "4326     n  120.068966  206.648000   93.648000  441.536000  30.646491\n",
       "4327     n  120.693452  216.047619   96.976190  336.619048  37.680488\n",
       "4328     n  141.383940  257.440000  144.640000  343.360000  39.746240\n",
       "4329     n  124.597015  349.500000  223.071429  421.952381  70.283234\n",
       "4330     n  120.051968  488.120000  323.928000  561.936000  18.239695\n",
       "4331     n  129.857500  333.840000  199.880000  485.160000  34.355786\n",
       "4332     n  112.689049  533.063291  368.734177  525.063291  45.605591\n",
       "4333     n  139.734592  200.690266   90.584071  450.884956  24.663350\n",
       "4334     n  111.568773  203.588235   93.264706  403.735294  26.512777\n",
       "4335     n  125.435240  206.394161   93.058394  512.270073  33.466060\n",
       "4336     n  132.123859  465.343750  295.333333  499.250000  38.762967\n",
       "4337     n  124.469536  215.152632   98.484211  675.915789  28.506542\n",
       "4338     n  125.171928  559.048000  365.968000  439.272000  15.392322\n",
       "\n",
       "[4339 rows x 6 columns]"
      ]
     },
     "execution_count": 33,
     "metadata": {},
     "output_type": "execute_result"
    }
   ],
   "source": [
    "data"
   ]
  },
  {
   "cell_type": "code",
   "execution_count": 34,
   "metadata": {},
   "outputs": [
    {
     "data": {
      "text/html": [
       "<div>\n",
       "<style scoped>\n",
       "    .dataframe tbody tr th:only-of-type {\n",
       "        vertical-align: middle;\n",
       "    }\n",
       "\n",
       "    .dataframe tbody tr th {\n",
       "        vertical-align: top;\n",
       "    }\n",
       "\n",
       "    .dataframe thead th {\n",
       "        text-align: right;\n",
       "    }\n",
       "</style>\n",
       "<table border=\"1\" class=\"dataframe\">\n",
       "  <thead>\n",
       "    <tr style=\"text-align: right;\">\n",
       "      <th></th>\n",
       "      <th>class</th>\n",
       "      <th>GLCM_pan</th>\n",
       "      <th>Mean_Green</th>\n",
       "      <th>Mean_Red</th>\n",
       "      <th>Mean_NIR</th>\n",
       "      <th>SD_pan</th>\n",
       "    </tr>\n",
       "  </thead>\n",
       "  <tbody>\n",
       "    <tr>\n",
       "      <th>0</th>\n",
       "      <td>w</td>\n",
       "      <td>120.362774</td>\n",
       "      <td>205.500000</td>\n",
       "      <td>119.395349</td>\n",
       "      <td>416.581395</td>\n",
       "      <td>20.676318</td>\n",
       "    </tr>\n",
       "    <tr>\n",
       "      <th>1</th>\n",
       "      <td>w</td>\n",
       "      <td>124.739583</td>\n",
       "      <td>202.800000</td>\n",
       "      <td>115.333333</td>\n",
       "      <td>354.333333</td>\n",
       "      <td>16.707151</td>\n",
       "    </tr>\n",
       "    <tr>\n",
       "      <th>2</th>\n",
       "      <td>w</td>\n",
       "      <td>134.691964</td>\n",
       "      <td>199.285714</td>\n",
       "      <td>116.857143</td>\n",
       "      <td>477.857143</td>\n",
       "      <td>22.496712</td>\n",
       "    </tr>\n",
       "    <tr>\n",
       "      <th>3</th>\n",
       "      <td>w</td>\n",
       "      <td>127.946309</td>\n",
       "      <td>178.368421</td>\n",
       "      <td>92.368421</td>\n",
       "      <td>278.473684</td>\n",
       "      <td>14.977453</td>\n",
       "    </tr>\n",
       "    <tr>\n",
       "      <th>4</th>\n",
       "      <td>w</td>\n",
       "      <td>135.431548</td>\n",
       "      <td>197.000000</td>\n",
       "      <td>112.690476</td>\n",
       "      <td>532.952381</td>\n",
       "      <td>17.604193</td>\n",
       "    </tr>\n",
       "  </tbody>\n",
       "</table>\n",
       "</div>"
      ],
      "text/plain": [
       "  class    GLCM_pan  Mean_Green    Mean_Red    Mean_NIR     SD_pan\n",
       "0     w  120.362774  205.500000  119.395349  416.581395  20.676318\n",
       "1     w  124.739583  202.800000  115.333333  354.333333  16.707151\n",
       "2     w  134.691964  199.285714  116.857143  477.857143  22.496712\n",
       "3     w  127.946309  178.368421   92.368421  278.473684  14.977453\n",
       "4     w  135.431548  197.000000  112.690476  532.952381  17.604193"
      ]
     },
     "execution_count": 34,
     "metadata": {},
     "output_type": "execute_result"
    }
   ],
   "source": [
    "data.head()"
   ]
  },
  {
   "cell_type": "markdown",
   "metadata": {},
   "source": [
    "Посмотрим на первые 5 строк таблицы"
   ]
  },
  {
   "cell_type": "code",
   "execution_count": 35,
   "metadata": {
    "scrolled": true
   },
   "outputs": [
    {
     "data": {
      "text/html": [
       "<div>\n",
       "<style scoped>\n",
       "    .dataframe tbody tr th:only-of-type {\n",
       "        vertical-align: middle;\n",
       "    }\n",
       "\n",
       "    .dataframe tbody tr th {\n",
       "        vertical-align: top;\n",
       "    }\n",
       "\n",
       "    .dataframe thead th {\n",
       "        text-align: right;\n",
       "    }\n",
       "</style>\n",
       "<table border=\"1\" class=\"dataframe\">\n",
       "  <thead>\n",
       "    <tr style=\"text-align: right;\">\n",
       "      <th></th>\n",
       "      <th>class</th>\n",
       "      <th>GLCM_pan</th>\n",
       "      <th>Mean_Green</th>\n",
       "      <th>Mean_Red</th>\n",
       "      <th>Mean_NIR</th>\n",
       "      <th>SD_pan</th>\n",
       "    </tr>\n",
       "  </thead>\n",
       "  <tbody>\n",
       "    <tr>\n",
       "      <th>4334</th>\n",
       "      <td>n</td>\n",
       "      <td>111.568773</td>\n",
       "      <td>203.588235</td>\n",
       "      <td>93.264706</td>\n",
       "      <td>403.735294</td>\n",
       "      <td>26.512777</td>\n",
       "    </tr>\n",
       "    <tr>\n",
       "      <th>4335</th>\n",
       "      <td>n</td>\n",
       "      <td>125.435240</td>\n",
       "      <td>206.394161</td>\n",
       "      <td>93.058394</td>\n",
       "      <td>512.270073</td>\n",
       "      <td>33.466060</td>\n",
       "    </tr>\n",
       "    <tr>\n",
       "      <th>4336</th>\n",
       "      <td>n</td>\n",
       "      <td>132.123859</td>\n",
       "      <td>465.343750</td>\n",
       "      <td>295.333333</td>\n",
       "      <td>499.250000</td>\n",
       "      <td>38.762967</td>\n",
       "    </tr>\n",
       "    <tr>\n",
       "      <th>4337</th>\n",
       "      <td>n</td>\n",
       "      <td>124.469536</td>\n",
       "      <td>215.152632</td>\n",
       "      <td>98.484211</td>\n",
       "      <td>675.915789</td>\n",
       "      <td>28.506542</td>\n",
       "    </tr>\n",
       "    <tr>\n",
       "      <th>4338</th>\n",
       "      <td>n</td>\n",
       "      <td>125.171928</td>\n",
       "      <td>559.048000</td>\n",
       "      <td>365.968000</td>\n",
       "      <td>439.272000</td>\n",
       "      <td>15.392322</td>\n",
       "    </tr>\n",
       "  </tbody>\n",
       "</table>\n",
       "</div>"
      ],
      "text/plain": [
       "     class    GLCM_pan  Mean_Green    Mean_Red    Mean_NIR     SD_pan\n",
       "4334     n  111.568773  203.588235   93.264706  403.735294  26.512777\n",
       "4335     n  125.435240  206.394161   93.058394  512.270073  33.466060\n",
       "4336     n  132.123859  465.343750  295.333333  499.250000  38.762967\n",
       "4337     n  124.469536  215.152632   98.484211  675.915789  28.506542\n",
       "4338     n  125.171928  559.048000  365.968000  439.272000  15.392322"
      ]
     },
     "execution_count": 35,
     "metadata": {},
     "output_type": "execute_result"
    }
   ],
   "source": [
    "data.tail()"
   ]
  },
  {
   "cell_type": "markdown",
   "metadata": {},
   "source": [
    "Посмотрим на последние 5 строк таблицы"
   ]
  },
  {
   "cell_type": "code",
   "execution_count": 36,
   "metadata": {},
   "outputs": [
    {
     "data": {
      "text/plain": [
       "pandas.core.frame.DataFrame"
      ]
     },
     "execution_count": 36,
     "metadata": {},
     "output_type": "execute_result"
    }
   ],
   "source": [
    "type(data)"
   ]
  },
  {
   "cell_type": "markdown",
   "metadata": {},
   "source": [
    "Посмотрим на тип данных, с которыми будем работать"
   ]
  },
  {
   "cell_type": "code",
   "execution_count": 37,
   "metadata": {},
   "outputs": [
    {
     "data": {
      "text/plain": [
       "pandas.core.series.Series"
      ]
     },
     "execution_count": 37,
     "metadata": {},
     "output_type": "execute_result"
    }
   ],
   "source": [
    "type(data['SD_pan'])"
   ]
  },
  {
   "cell_type": "code",
   "execution_count": 4,
   "metadata": {},
   "outputs": [
    {
     "data": {
      "text/plain": [
       "pandas.core.series.Series"
      ]
     },
     "execution_count": 4,
     "metadata": {},
     "output_type": "execute_result"
    }
   ],
   "source": [
    "type(data['GLCM_pan'])"
   ]
  },
  {
   "cell_type": "code",
   "execution_count": 5,
   "metadata": {},
   "outputs": [
    {
     "data": {
      "text/plain": [
       "pandas.core.series.Series"
      ]
     },
     "execution_count": 5,
     "metadata": {},
     "output_type": "execute_result"
    }
   ],
   "source": [
    "type(data['Mean_Green'])"
   ]
  },
  {
   "cell_type": "code",
   "execution_count": 6,
   "metadata": {},
   "outputs": [
    {
     "data": {
      "text/plain": [
       "pandas.core.series.Series"
      ]
     },
     "execution_count": 6,
     "metadata": {},
     "output_type": "execute_result"
    }
   ],
   "source": [
    "type(data['Mean_Red'])"
   ]
  },
  {
   "cell_type": "code",
   "execution_count": 7,
   "metadata": {},
   "outputs": [
    {
     "data": {
      "text/plain": [
       "pandas.core.series.Series"
      ]
     },
     "execution_count": 7,
     "metadata": {},
     "output_type": "execute_result"
    }
   ],
   "source": [
    "type(data['Mean_NIR'])"
   ]
  },
  {
   "cell_type": "code",
   "execution_count": 38,
   "metadata": {},
   "outputs": [
    {
     "name": "stdout",
     "output_type": "stream",
     "text": [
      "Index(['class', 'GLCM_pan', 'Mean_Green', 'Mean_Red', 'Mean_NIR', 'SD_pan'], dtype='object')\n"
     ]
    }
   ],
   "source": [
    "print(data.columns)"
   ]
  },
  {
   "cell_type": "markdown",
   "metadata": {},
   "source": [
    "Посмотрим название столбцов(они и так видны, но мы же знаем, как можно просто вызвать одну функцию)"
   ]
  },
  {
   "cell_type": "code",
   "execution_count": 39,
   "metadata": {},
   "outputs": [
    {
     "name": "stdout",
     "output_type": "stream",
     "text": [
      "<class 'pandas.core.frame.DataFrame'>\n",
      "RangeIndex: 4339 entries, 0 to 4338\n",
      "Data columns (total 6 columns):\n",
      "class         4339 non-null object\n",
      "GLCM_pan      4339 non-null float64\n",
      "Mean_Green    4339 non-null float64\n",
      "Mean_Red      4339 non-null float64\n",
      "Mean_NIR      4339 non-null float64\n",
      "SD_pan        4339 non-null float64\n",
      "dtypes: float64(5), object(1)\n",
      "memory usage: 203.5+ KB\n"
     ]
    }
   ],
   "source": [
    "data.info()"
   ]
  },
  {
   "cell_type": "markdown",
   "metadata": {},
   "source": [
    "Теперь посмотрим общую информацию о нашей обучающей выборке. Мы видим, что пустые ячейки у нас отсутствуют"
   ]
  },
  {
   "cell_type": "code",
   "execution_count": 40,
   "metadata": {
    "scrolled": false
   },
   "outputs": [
    {
     "data": {
      "text/html": [
       "<div>\n",
       "<style scoped>\n",
       "    .dataframe tbody tr th:only-of-type {\n",
       "        vertical-align: middle;\n",
       "    }\n",
       "\n",
       "    .dataframe tbody tr th {\n",
       "        vertical-align: top;\n",
       "    }\n",
       "\n",
       "    .dataframe thead th {\n",
       "        text-align: right;\n",
       "    }\n",
       "</style>\n",
       "<table border=\"1\" class=\"dataframe\">\n",
       "  <thead>\n",
       "    <tr style=\"text-align: right;\">\n",
       "      <th></th>\n",
       "      <th>GLCM_pan</th>\n",
       "      <th>Mean_Green</th>\n",
       "      <th>Mean_Red</th>\n",
       "      <th>Mean_NIR</th>\n",
       "      <th>SD_pan</th>\n",
       "    </tr>\n",
       "  </thead>\n",
       "  <tbody>\n",
       "    <tr>\n",
       "      <th>count</th>\n",
       "      <td>4339.000000</td>\n",
       "      <td>4339.000000</td>\n",
       "      <td>4339.000000</td>\n",
       "      <td>4339.000000</td>\n",
       "      <td>4339.000000</td>\n",
       "    </tr>\n",
       "    <tr>\n",
       "      <th>mean</th>\n",
       "      <td>126.831298</td>\n",
       "      <td>233.906908</td>\n",
       "      <td>117.292439</td>\n",
       "      <td>534.104683</td>\n",
       "      <td>24.924588</td>\n",
       "    </tr>\n",
       "    <tr>\n",
       "      <th>std</th>\n",
       "      <td>13.735836</td>\n",
       "      <td>60.757687</td>\n",
       "      <td>60.711159</td>\n",
       "      <td>154.495500</td>\n",
       "      <td>11.008303</td>\n",
       "    </tr>\n",
       "    <tr>\n",
       "      <th>min</th>\n",
       "      <td>0.000000</td>\n",
       "      <td>164.625000</td>\n",
       "      <td>59.142857</td>\n",
       "      <td>86.500000</td>\n",
       "      <td>0.000000</td>\n",
       "    </tr>\n",
       "    <tr>\n",
       "      <th>25%</th>\n",
       "      <td>118.589080</td>\n",
       "      <td>206.000000</td>\n",
       "      <td>91.975244</td>\n",
       "      <td>422.875000</td>\n",
       "      <td>18.009143</td>\n",
       "    </tr>\n",
       "    <tr>\n",
       "      <th>50%</th>\n",
       "      <td>127.479167</td>\n",
       "      <td>221.454545</td>\n",
       "      <td>101.727273</td>\n",
       "      <td>528.500000</td>\n",
       "      <td>23.612444</td>\n",
       "    </tr>\n",
       "    <tr>\n",
       "      <th>75%</th>\n",
       "      <td>135.043591</td>\n",
       "      <td>241.791304</td>\n",
       "      <td>116.866071</td>\n",
       "      <td>643.087037</td>\n",
       "      <td>29.899148</td>\n",
       "    </tr>\n",
       "    <tr>\n",
       "      <th>max</th>\n",
       "      <td>183.281250</td>\n",
       "      <td>955.714286</td>\n",
       "      <td>746.333333</td>\n",
       "      <td>1005.516129</td>\n",
       "      <td>156.508431</td>\n",
       "    </tr>\n",
       "  </tbody>\n",
       "</table>\n",
       "</div>"
      ],
      "text/plain": [
       "          GLCM_pan   Mean_Green     Mean_Red     Mean_NIR       SD_pan\n",
       "count  4339.000000  4339.000000  4339.000000  4339.000000  4339.000000\n",
       "mean    126.831298   233.906908   117.292439   534.104683    24.924588\n",
       "std      13.735836    60.757687    60.711159   154.495500    11.008303\n",
       "min       0.000000   164.625000    59.142857    86.500000     0.000000\n",
       "25%     118.589080   206.000000    91.975244   422.875000    18.009143\n",
       "50%     127.479167   221.454545   101.727273   528.500000    23.612444\n",
       "75%     135.043591   241.791304   116.866071   643.087037    29.899148\n",
       "max     183.281250   955.714286   746.333333  1005.516129   156.508431"
      ]
     },
     "execution_count": 40,
     "metadata": {},
     "output_type": "execute_result"
    }
   ],
   "source": [
    "data.describe()"
   ]
  },
  {
   "cell_type": "markdown",
   "metadata": {},
   "source": [
    "Теперь стоит посмотреть общие статистические характеристики наших количественных признаков. Как видно, здесь отсутствует столбец с классом (т.к. этот признак не является количественным)"
   ]
  },
  {
   "cell_type": "code",
   "execution_count": 29,
   "metadata": {},
   "outputs": [
    {
     "data": {
      "image/png": "[encoded data removed]",
      "text/plain": [
       "<Figure size 720x720 with 25 Axes>"
      ]
     },
     "metadata": {
      "needs_background": "light"
     },
     "output_type": "display_data"
    }
   ],
   "source": [
    "from pandas.plotting import scatter_matrix\n",
    "scatter_matrix(data, alpha = .01, figsize = (10, 10))\n",
    "pass"
   ]
  },
  {
   "cell_type": "code",
   "execution_count": null,
   "metadata": {},
   "outputs": [],
   "source": [
    "Построим гистограмму"
   ]
  },
  {
   "cell_type": "code",
   "execution_count": 15,
   "metadata": {},
   "outputs": [
    {
     "data": {
      "text/html": [
       "<div>\n",
       "<style scoped>\n",
       "    .dataframe tbody tr th:only-of-type {\n",
       "        vertical-align: middle;\n",
       "    }\n",
       "\n",
       "    .dataframe tbody tr th {\n",
       "        vertical-align: top;\n",
       "    }\n",
       "\n",
       "    .dataframe thead th {\n",
       "        text-align: right;\n",
       "    }\n",
       "</style>\n",
       "<table border=\"1\" class=\"dataframe\">\n",
       "  <thead>\n",
       "    <tr style=\"text-align: right;\">\n",
       "      <th></th>\n",
       "      <th>class</th>\n",
       "      <th>GLCM_pan</th>\n",
       "      <th>Mean_Green</th>\n",
       "      <th>Mean_Red</th>\n",
       "      <th>Mean_NIR</th>\n",
       "      <th>SD_pan</th>\n",
       "    </tr>\n",
       "  </thead>\n",
       "  <tbody>\n",
       "    <tr>\n",
       "      <th>count</th>\n",
       "      <td>4339</td>\n",
       "      <td>4339.000000</td>\n",
       "      <td>4339.000000</td>\n",
       "      <td>4339.000000</td>\n",
       "      <td>4339.000000</td>\n",
       "      <td>4339.000000</td>\n",
       "    </tr>\n",
       "    <tr>\n",
       "      <th>unique</th>\n",
       "      <td>2</td>\n",
       "      <td>NaN</td>\n",
       "      <td>NaN</td>\n",
       "      <td>NaN</td>\n",
       "      <td>NaN</td>\n",
       "      <td>NaN</td>\n",
       "    </tr>\n",
       "    <tr>\n",
       "      <th>top</th>\n",
       "      <td>n</td>\n",
       "      <td>NaN</td>\n",
       "      <td>NaN</td>\n",
       "      <td>NaN</td>\n",
       "      <td>NaN</td>\n",
       "      <td>NaN</td>\n",
       "    </tr>\n",
       "    <tr>\n",
       "      <th>freq</th>\n",
       "      <td>4265</td>\n",
       "      <td>NaN</td>\n",
       "      <td>NaN</td>\n",
       "      <td>NaN</td>\n",
       "      <td>NaN</td>\n",
       "      <td>NaN</td>\n",
       "    </tr>\n",
       "    <tr>\n",
       "      <th>mean</th>\n",
       "      <td>NaN</td>\n",
       "      <td>126.831298</td>\n",
       "      <td>233.906908</td>\n",
       "      <td>117.292439</td>\n",
       "      <td>534.104683</td>\n",
       "      <td>24.924588</td>\n",
       "    </tr>\n",
       "    <tr>\n",
       "      <th>std</th>\n",
       "      <td>NaN</td>\n",
       "      <td>13.735836</td>\n",
       "      <td>60.757687</td>\n",
       "      <td>60.711159</td>\n",
       "      <td>154.495500</td>\n",
       "      <td>11.008303</td>\n",
       "    </tr>\n",
       "    <tr>\n",
       "      <th>min</th>\n",
       "      <td>NaN</td>\n",
       "      <td>0.000000</td>\n",
       "      <td>164.625000</td>\n",
       "      <td>59.142857</td>\n",
       "      <td>86.500000</td>\n",
       "      <td>0.000000</td>\n",
       "    </tr>\n",
       "    <tr>\n",
       "      <th>25%</th>\n",
       "      <td>NaN</td>\n",
       "      <td>118.589080</td>\n",
       "      <td>206.000000</td>\n",
       "      <td>91.975244</td>\n",
       "      <td>422.875000</td>\n",
       "      <td>18.009143</td>\n",
       "    </tr>\n",
       "    <tr>\n",
       "      <th>50%</th>\n",
       "      <td>NaN</td>\n",
       "      <td>127.479167</td>\n",
       "      <td>221.454545</td>\n",
       "      <td>101.727273</td>\n",
       "      <td>528.500000</td>\n",
       "      <td>23.612444</td>\n",
       "    </tr>\n",
       "    <tr>\n",
       "      <th>75%</th>\n",
       "      <td>NaN</td>\n",
       "      <td>135.043591</td>\n",
       "      <td>241.791304</td>\n",
       "      <td>116.866071</td>\n",
       "      <td>643.087037</td>\n",
       "      <td>29.899148</td>\n",
       "    </tr>\n",
       "    <tr>\n",
       "      <th>max</th>\n",
       "      <td>NaN</td>\n",
       "      <td>183.281250</td>\n",
       "      <td>955.714286</td>\n",
       "      <td>746.333333</td>\n",
       "      <td>1005.516129</td>\n",
       "      <td>156.508431</td>\n",
       "    </tr>\n",
       "  </tbody>\n",
       "</table>\n",
       "</div>"
      ],
      "text/plain": [
       "       class     GLCM_pan   Mean_Green     Mean_Red     Mean_NIR       SD_pan\n",
       "count   4339  4339.000000  4339.000000  4339.000000  4339.000000  4339.000000\n",
       "unique     2          NaN          NaN          NaN          NaN          NaN\n",
       "top        n          NaN          NaN          NaN          NaN          NaN\n",
       "freq    4265          NaN          NaN          NaN          NaN          NaN\n",
       "mean     NaN   126.831298   233.906908   117.292439   534.104683    24.924588\n",
       "std      NaN    13.735836    60.757687    60.711159   154.495500    11.008303\n",
       "min      NaN     0.000000   164.625000    59.142857    86.500000     0.000000\n",
       "25%      NaN   118.589080   206.000000    91.975244   422.875000    18.009143\n",
       "50%      NaN   127.479167   221.454545   101.727273   528.500000    23.612444\n",
       "75%      NaN   135.043591   241.791304   116.866071   643.087037    29.899148\n",
       "max      NaN   183.281250   955.714286   746.333333  1005.516129   156.508431"
      ]
     },
     "execution_count": 15,
     "metadata": {},
     "output_type": "execute_result"
    }
   ],
   "source": [
    "data.describe(include = 'all')"
   ]
  },
  {
   "cell_type": "markdown",
   "metadata": {},
   "source": [
    "Если мы допишем include = 'all', можно будет посмотреть статистику по всем-всем признакам"
   ]
  },
  {
   "cell_type": "code",
   "execution_count": 13,
   "metadata": {},
   "outputs": [
    {
     "data": {
      "text/html": [
       "<div>\n",
       "<table border=\"1\" class=\"dataframe\">\n",
       "  <thead>\n",
       "    <tr style=\"text-align: right;\">\n",
       "      <th></th>\n",
       "      <th>GLCM_pan</th>\n",
       "      <th>Mean_Green</th>\n",
       "      <th>Mean_Red</th>\n",
       "      <th>Mean_NIR</th>\n",
       "      <th>SD_pan</th>\n",
       "    </tr>\n",
       "  </thead>\n",
       "  <tbody>\n",
       "    <tr>\n",
       "      <th>GLCM_pan</th>\n",
       "      <td>1.000000</td>\n",
       "      <td>-0.122384</td>\n",
       "      <td>-0.107166</td>\n",
       "      <td>-0.094263</td>\n",
       "      <td>-0.065023</td>\n",
       "    </tr>\n",
       "    <tr>\n",
       "      <th>Mean_Green</th>\n",
       "      <td>-0.122384</td>\n",
       "      <td>1.000000</td>\n",
       "      <td>0.964682</td>\n",
       "      <td>0.223518</td>\n",
       "      <td>0.246103</td>\n",
       "    </tr>\n",
       "    <tr>\n",
       "      <th>Mean_Red</th>\n",
       "      <td>-0.107166</td>\n",
       "      <td>0.964682</td>\n",
       "      <td>1.000000</td>\n",
       "      <td>0.121230</td>\n",
       "      <td>0.254383</td>\n",
       "    </tr>\n",
       "    <tr>\n",
       "      <th>Mean_NIR</th>\n",
       "      <td>-0.094263</td>\n",
       "      <td>0.223518</td>\n",
       "      <td>0.121230</td>\n",
       "      <td>1.000000</td>\n",
       "      <td>0.120276</td>\n",
       "    </tr>\n",
       "    <tr>\n",
       "      <th>SD_pan</th>\n",
       "      <td>-0.065023</td>\n",
       "      <td>0.246103</td>\n",
       "      <td>0.254383</td>\n",
       "      <td>0.120276</td>\n",
       "      <td>1.000000</td>\n",
       "    </tr>\n",
       "  </tbody>\n",
       "</table>\n",
       "</div>"
      ],
      "text/plain": [
       "            GLCM_pan  Mean_Green  Mean_Red  Mean_NIR    SD_pan\n",
       "GLCM_pan    1.000000   -0.122384 -0.107166 -0.094263 -0.065023\n",
       "Mean_Green -0.122384    1.000000  0.964682  0.223518  0.246103\n",
       "Mean_Red   -0.107166    0.964682  1.000000  0.121230  0.254383\n",
       "Mean_NIR   -0.094263    0.223518  0.121230  1.000000  0.120276\n",
       "SD_pan     -0.065023    0.246103  0.254383  0.120276  1.000000"
      ]
     },
     "execution_count": 13,
     "metadata": {},
     "output_type": "execute_result"
    }
   ],
   "source": [
    "data.corr()"
   ]
  },
  {
   "cell_type": "markdown",
   "metadata": {},
   "source": [
    "Стоит посмотреть на таблицу корреляции между признаками. Видим сильную корреляцию между признаками Mean_Green и Mean_Red (высокий корреляционный коэфициент=0.96...)"
   ]
  },
  {
   "cell_type": "code",
   "execution_count": 14,
   "metadata": {},
   "outputs": [
    {
     "data": {
      "text/html": [
       "<div>\n",
       "<table border=\"1\" class=\"dataframe\">\n",
       "  <thead>\n",
       "    <tr style=\"text-align: right;\">\n",
       "      <th></th>\n",
       "      <th>GLCM_pan</th>\n",
       "      <th>Mean_Green</th>\n",
       "      <th>Mean_Red</th>\n",
       "      <th>Mean_NIR</th>\n",
       "      <th>SD_pan</th>\n",
       "    </tr>\n",
       "  </thead>\n",
       "  <tbody>\n",
       "    <tr>\n",
       "      <th>GLCM_pan</th>\n",
       "      <td>1.000000</td>\n",
       "      <td>-0.308103</td>\n",
       "      <td>-0.395809</td>\n",
       "      <td>-0.078710</td>\n",
       "      <td>-0.301669</td>\n",
       "    </tr>\n",
       "    <tr>\n",
       "      <th>Mean_Green</th>\n",
       "      <td>-0.308103</td>\n",
       "      <td>1.000000</td>\n",
       "      <td>0.934136</td>\n",
       "      <td>0.793182</td>\n",
       "      <td>0.504750</td>\n",
       "    </tr>\n",
       "    <tr>\n",
       "      <th>Mean_Red</th>\n",
       "      <td>-0.395809</td>\n",
       "      <td>0.934136</td>\n",
       "      <td>1.000000</td>\n",
       "      <td>0.664420</td>\n",
       "      <td>0.497196</td>\n",
       "    </tr>\n",
       "    <tr>\n",
       "      <th>Mean_NIR</th>\n",
       "      <td>-0.078710</td>\n",
       "      <td>0.793182</td>\n",
       "      <td>0.664420</td>\n",
       "      <td>1.000000</td>\n",
       "      <td>0.583885</td>\n",
       "    </tr>\n",
       "    <tr>\n",
       "      <th>SD_pan</th>\n",
       "      <td>-0.301669</td>\n",
       "      <td>0.504750</td>\n",
       "      <td>0.497196</td>\n",
       "      <td>0.583885</td>\n",
       "      <td>1.000000</td>\n",
       "    </tr>\n",
       "  </tbody>\n",
       "</table>\n",
       "</div>"
      ],
      "text/plain": [
       "            GLCM_pan  Mean_Green  Mean_Red  Mean_NIR    SD_pan\n",
       "GLCM_pan    1.000000   -0.308103 -0.395809 -0.078710 -0.301669\n",
       "Mean_Green -0.308103    1.000000  0.934136  0.793182  0.504750\n",
       "Mean_Red   -0.395809    0.934136  1.000000  0.664420  0.497196\n",
       "Mean_NIR   -0.078710    0.793182  0.664420  1.000000  0.583885\n",
       "SD_pan     -0.301669    0.504750  0.497196  0.583885  1.000000"
      ]
     },
     "execution_count": 14,
     "metadata": {},
     "output_type": "execute_result"
    }
   ],
   "source": [
    "data[data[\"class\"] == 'w'].corr()"
   ]
  },
  {
   "cell_type": "markdown",
   "metadata": {},
   "source": [
    "Посмотрим корреляцию признаков для больных деревьев(класс W)"
   ]
  },
  {
   "cell_type": "code",
   "execution_count": 15,
   "metadata": {
    "scrolled": true
   },
   "outputs": [
    {
     "data": {
      "text/html": [
       "<div>\n",
       "<table border=\"1\" class=\"dataframe\">\n",
       "  <thead>\n",
       "    <tr style=\"text-align: right;\">\n",
       "      <th></th>\n",
       "      <th>GLCM_pan</th>\n",
       "      <th>Mean_Green</th>\n",
       "      <th>Mean_Red</th>\n",
       "      <th>Mean_NIR</th>\n",
       "      <th>SD_pan</th>\n",
       "    </tr>\n",
       "  </thead>\n",
       "  <tbody>\n",
       "    <tr>\n",
       "      <th>GLCM_pan</th>\n",
       "      <td>1.000000</td>\n",
       "      <td>-0.121066</td>\n",
       "      <td>-0.106399</td>\n",
       "      <td>-0.093080</td>\n",
       "      <td>-0.062997</td>\n",
       "    </tr>\n",
       "    <tr>\n",
       "      <th>Mean_Green</th>\n",
       "      <td>-0.121066</td>\n",
       "      <td>1.000000</td>\n",
       "      <td>0.967065</td>\n",
       "      <td>0.216821</td>\n",
       "      <td>0.242798</td>\n",
       "    </tr>\n",
       "    <tr>\n",
       "      <th>Mean_Red</th>\n",
       "      <td>-0.106399</td>\n",
       "      <td>0.967065</td>\n",
       "      <td>1.000000</td>\n",
       "      <td>0.120114</td>\n",
       "      <td>0.254281</td>\n",
       "    </tr>\n",
       "    <tr>\n",
       "      <th>Mean_NIR</th>\n",
       "      <td>-0.093080</td>\n",
       "      <td>0.216821</td>\n",
       "      <td>0.120114</td>\n",
       "      <td>1.000000</td>\n",
       "      <td>0.112734</td>\n",
       "    </tr>\n",
       "    <tr>\n",
       "      <th>SD_pan</th>\n",
       "      <td>-0.062997</td>\n",
       "      <td>0.242798</td>\n",
       "      <td>0.254281</td>\n",
       "      <td>0.112734</td>\n",
       "      <td>1.000000</td>\n",
       "    </tr>\n",
       "  </tbody>\n",
       "</table>\n",
       "</div>"
      ],
      "text/plain": [
       "            GLCM_pan  Mean_Green  Mean_Red  Mean_NIR    SD_pan\n",
       "GLCM_pan    1.000000   -0.121066 -0.106399 -0.093080 -0.062997\n",
       "Mean_Green -0.121066    1.000000  0.967065  0.216821  0.242798\n",
       "Mean_Red   -0.106399    0.967065  1.000000  0.120114  0.254281\n",
       "Mean_NIR   -0.093080    0.216821  0.120114  1.000000  0.112734\n",
       "SD_pan     -0.062997    0.242798  0.254281  0.112734  1.000000"
      ]
     },
     "execution_count": 15,
     "metadata": {},
     "output_type": "execute_result"
    }
   ],
   "source": [
    "data[data[\"class\"] == 'n'].corr()"
   ]
  },
  {
   "cell_type": "markdown",
   "metadata": {},
   "source": [
    "А узнаем теперь, какая корреляция между признаками у объектов которые относятся к классу других растительных объектов(класс N)\n",
    "Заметим, что для больных деревьев корреляция между признаками Mean_Green и Mean_NIR значительно выше, чем для остальных растительных объектов."
   ]
  },
  {
   "cell_type": "code",
   "execution_count": 16,
   "metadata": {},
   "outputs": [
    {
     "data": {
      "image/png": "[encoded data removed]",
      "text/plain": [
       "<matplotlib.figure.Figure at 0x5899240>"
      ]
     },
     "metadata": {},
     "output_type": "display_data"
    }
   ],
   "source": [
    "plt.plot(data[data[\"class\"]=='w']['Mean_Green'], data[data[\"class\"]=='w']['Mean_NIR'], '*', color = 'red', alpha = 0.6)\n",
    "plt.xlabel('Mean_Green')\n",
    "plt.ylabel('Mean_NIR')\n",
    "pass"
   ]
  },
  {
   "cell_type": "markdown",
   "metadata": {},
   "source": [
    "Для удобства построим простую диаграмму рассеяния для класса больных деревьев для параметров:объем зеленой растительности(Mean_Green) и Mean_NIR."
   ]
  },
  {
   "cell_type": "code",
   "execution_count": 17,
   "metadata": {},
   "outputs": [
    {
     "data": {
      "image/png": "[encoded data removed]",
      "text/plain": [
       "<matplotlib.figure.Figure at 0xa065470>"
      ]
     },
     "metadata": {},
     "output_type": "display_data"
    }
   ],
   "source": [
    "plt.plot(data[data[\"class\"]=='n']['Mean_Green'], data[data[\"class\"]=='n']['Mean_NIR'], '*', color = 'red', alpha = 0.4)\n",
    "plt.xlabel('Mean_Green')\n",
    "plt.ylabel('Mean_NIR')\n",
    "pass"
   ]
  },
  {
   "cell_type": "markdown",
   "metadata": {},
   "source": [
    "Аналогичный график построим и для объектов из класса других растений. Заметим, что для многих объектов из этого класса характерно невысокое(относительно невысокое) значение Mean_Green и при этом различные значения Mean_NIR."
   ]
  },
  {
   "cell_type": "code",
   "execution_count": 8,
   "metadata": {},
   "outputs": [
    {
     "data": {
      "text/plain": [
       "0       False\n",
       "1       False\n",
       "2       False\n",
       "3       False\n",
       "4       False\n",
       "        ...  \n",
       "4334    False\n",
       "4335    False\n",
       "4336     True\n",
       "4337    False\n",
       "4338     True\n",
       "Name: Mean_Green, Length: 4339, dtype: bool"
      ]
     },
     "execution_count": 8,
     "metadata": {},
     "output_type": "execute_result"
    }
   ],
   "source": [
    "data['Mean_Green'] > 250"
   ]
  },
  {
   "cell_type": "code",
   "execution_count": 18,
   "metadata": {
    "scrolled": false
   },
   "outputs": [
    {
     "data": {
      "text/plain": [
       "0    False\n",
       "1    False\n",
       "2    False\n",
       "3    False\n",
       "4    False\n",
       "Name: Mean_Green, dtype: bool"
      ]
     },
     "execution_count": 18,
     "metadata": {},
     "output_type": "execute_result"
    }
   ],
   "source": [
    "(data['Mean_Green'] > 250).head()"
   ]
  },
  {
   "cell_type": "markdown",
   "metadata": {},
   "source": [
    "Выведем первые 5 объектов, для которых значение Mean_Green больше 250"
   ]
  },
  {
   "cell_type": "code",
   "execution_count": 19,
   "metadata": {},
   "outputs": [
    {
     "data": {
      "text/plain": [
       "array(['w', 'n'], dtype=object)"
      ]
     },
     "execution_count": 19,
     "metadata": {},
     "output_type": "execute_result"
    }
   ],
   "source": [
    "data['class'].unique()"
   ]
  },
  {
   "cell_type": "markdown",
   "metadata": {},
   "source": [
    "Выведем уникальные значения для столбца Класс. Замечаем, что у нас всего два уникальных значения для этого столбца"
   ]
  },
  {
   "cell_type": "code",
   "execution_count": 20,
   "metadata": {},
   "outputs": [
    {
     "data": {
      "text/plain": [
       "164.625"
      ]
     },
     "execution_count": 20,
     "metadata": {},
     "output_type": "execute_result"
    }
   ],
   "source": [
    "data['Mean_Green'].min()"
   ]
  },
  {
   "cell_type": "markdown",
   "metadata": {},
   "source": [
    "Посмотрим минимальное значение для столбца Mean_Green"
   ]
  },
  {
   "cell_type": "code",
   "execution_count": 21,
   "metadata": {},
   "outputs": [
    {
     "data": {
      "image/png": "[encoded data removed]",
      "text/plain": [
       "<matplotlib.figure.Figure at 0x9d11dd8>"
      ]
     },
     "metadata": {},
     "output_type": "display_data"
    }
   ],
   "source": [
    "plt.figure(figsize = (20, 15))\n",
    "\n",
    "plt.scatter(data[data['class'] == 'w']['Mean_Green'],\n",
    "            data[data['class'] == 'w']['Mean_NIR'],\n",
    "            alpha = 0.9,\n",
    "            label = 'w',\n",
    "            color = 'r')\n",
    "\n",
    "plt.scatter(data[data['class'] == 'n']['Mean_Green'],\n",
    "            data[data['class'] == 'n']['Mean_NIR'],\n",
    "            alpha = 0.6,\n",
    "            label = 'n',\n",
    "            color = 'g')\n",
    "\n",
    "plt.xlabel('Mean_Green')\n",
    "plt.xticks(range(85, 1006))\n",
    "plt.xlim(164, 956)\n",
    "plt.ylabel('Mean_NIR')\n",
    "plt.legend()\n",
    "plt.grid()"
   ]
  },
  {
   "cell_type": "code",
   "execution_count": 22,
   "metadata": {},
   "outputs": [
    {
     "data": {
      "text/plain": [
       "(4311L,)"
      ]
     },
     "execution_count": 22,
     "metadata": {},
     "output_type": "execute_result"
    }
   ],
   "source": [
    "data['SD_pan'].unique().shape"
   ]
  },
  {
   "cell_type": "code",
   "execution_count": 23,
   "metadata": {},
   "outputs": [
    {
     "data": {
      "text/plain": [
       "(4339L,)"
      ]
     },
     "execution_count": 23,
     "metadata": {},
     "output_type": "execute_result"
    }
   ],
   "source": [
    "data['SD_pan'].shape"
   ]
  },
  {
   "cell_type": "markdown",
   "metadata": {},
   "source": [
    "Посмотрим, нет ли повторяющихся значений SD_pan для разных объектов. Для этого сравним количество уникальных значений поля и количество всех значений. Понимаем, что есть повторяющиеся значения SD_pan у каких-то элементов датасета."
   ]
  },
  {
   "cell_type": "code",
   "execution_count": 24,
   "metadata": {
    "collapsed": true
   },
   "outputs": [],
   "source": [
    "y = np.array([1 if it == 'w' else 0 for it in data['class']])"
   ]
  },
  {
   "cell_type": "markdown",
   "metadata": {},
   "source": [
    "Поскольку классов у нас всего два, вполне удобно и практично будет сделать этот признак бинарным: 1, если дерево больно(класс w), в остальных случаях 0.\n"
   ]
  },
  {
   "cell_type": "code",
   "execution_count": 25,
   "metadata": {},
   "outputs": [],
   "source": [
    "data = data.drop(('class'), axis=1)"
   ]
  },
  {
   "cell_type": "code",
   "execution_count": 35,
   "metadata": {},
   "outputs": [
    {
     "name": "stdout",
     "output_type": "stream",
     "text": [
      "(4339L,)\n"
     ]
    }
   ],
   "source": [
    "print(y.shape)"
   ]
  },
  {
   "cell_type": "markdown",
   "metadata": {},
   "source": [
    "храним выделенный признак в отдельном векторе(так удобнее.правда)"
   ]
  },
  {
   "cell_type": "code",
   "execution_count": 27,
   "metadata": {},
   "outputs": [
    {
     "name": "stdout",
     "output_type": "stream",
     "text": [
      "[]\n"
     ]
    }
   ],
   "source": [
    "categorical_columns = [i for i in data.columns if data[i].dtype.name == 'object']\n",
    "print(categorical_columns)"
   ]
  },
  {
   "cell_type": "markdown",
   "metadata": {},
   "source": [
    "Выбьем столбец с обозначение классов и узнаем, остались ли у нас такие неудобные категориальные признаки. Нет, их больше нет."
   ]
  },
  {
   "cell_type": "code",
   "execution_count": 28,
   "metadata": {},
   "outputs": [
    {
     "name": "stdout",
     "output_type": "stream",
     "text": [
      "['GLCM_pan', 'Mean_Green', 'Mean_Red', 'Mean_NIR', 'SD_pan']\n"
     ]
    }
   ],
   "source": [
    "numerical_columns   = [i for i in data.columns if data[i].dtype.name != 'object']\n",
    "print(numerical_columns)"
   ]
  },
  {
   "cell_type": "markdown",
   "metadata": {},
   "source": [
    "Посмотрим, какие количественные признаки у нас остались."
   ]
  },
  {
   "cell_type": "code",
   "execution_count": 29,
   "metadata": {},
   "outputs": [
    {
     "data": {
      "text/plain": [
       "GLCM_pan      4339\n",
       "Mean_Green    4339\n",
       "Mean_Red      4339\n",
       "Mean_NIR      4339\n",
       "SD_pan        4339\n",
       "dtype: int64"
      ]
     },
     "execution_count": 29,
     "metadata": {},
     "output_type": "execute_result"
    }
   ],
   "source": [
    "data[numerical_columns].count(axis = 0)"
   ]
  },
  {
   "cell_type": "markdown",
   "metadata": {},
   "source": [
    "Попробовали найти пропущеные значения. Их нет."
   ]
  },
  {
   "cell_type": "code",
   "execution_count": 30,
   "metadata": {},
   "outputs": [
    {
     "data": {
      "text/html": [
       "<div>\n",
       "<table border=\"1\" class=\"dataframe\">\n",
       "  <thead>\n",
       "    <tr style=\"text-align: right;\">\n",
       "      <th></th>\n",
       "      <th>GLCM_pan</th>\n",
       "      <th>Mean_Green</th>\n",
       "      <th>Mean_Red</th>\n",
       "      <th>Mean_NIR</th>\n",
       "      <th>SD_pan</th>\n",
       "    </tr>\n",
       "  </thead>\n",
       "  <tbody>\n",
       "    <tr>\n",
       "      <th>count</th>\n",
       "      <td>4339.000000</td>\n",
       "      <td>4339.000000</td>\n",
       "      <td>4339.000000</td>\n",
       "      <td>4339.000000</td>\n",
       "      <td>4339.000000</td>\n",
       "    </tr>\n",
       "    <tr>\n",
       "      <th>mean</th>\n",
       "      <td>126.831298</td>\n",
       "      <td>233.906908</td>\n",
       "      <td>117.292439</td>\n",
       "      <td>534.104683</td>\n",
       "      <td>24.924588</td>\n",
       "    </tr>\n",
       "    <tr>\n",
       "      <th>std</th>\n",
       "      <td>13.735836</td>\n",
       "      <td>60.757687</td>\n",
       "      <td>60.711159</td>\n",
       "      <td>154.495500</td>\n",
       "      <td>11.008303</td>\n",
       "    </tr>\n",
       "    <tr>\n",
       "      <th>min</th>\n",
       "      <td>0.000000</td>\n",
       "      <td>164.625000</td>\n",
       "      <td>59.142857</td>\n",
       "      <td>86.500000</td>\n",
       "      <td>0.000000</td>\n",
       "    </tr>\n",
       "    <tr>\n",
       "      <th>25%</th>\n",
       "      <td>118.589080</td>\n",
       "      <td>206.000000</td>\n",
       "      <td>91.975244</td>\n",
       "      <td>422.875000</td>\n",
       "      <td>18.009143</td>\n",
       "    </tr>\n",
       "    <tr>\n",
       "      <th>50%</th>\n",
       "      <td>127.479167</td>\n",
       "      <td>221.454545</td>\n",
       "      <td>101.727273</td>\n",
       "      <td>528.500000</td>\n",
       "      <td>23.612444</td>\n",
       "    </tr>\n",
       "    <tr>\n",
       "      <th>75%</th>\n",
       "      <td>135.043591</td>\n",
       "      <td>241.791304</td>\n",
       "      <td>116.866071</td>\n",
       "      <td>643.087037</td>\n",
       "      <td>29.899148</td>\n",
       "    </tr>\n",
       "    <tr>\n",
       "      <th>max</th>\n",
       "      <td>183.281250</td>\n",
       "      <td>955.714286</td>\n",
       "      <td>746.333333</td>\n",
       "      <td>1005.516129</td>\n",
       "      <td>156.508431</td>\n",
       "    </tr>\n",
       "  </tbody>\n",
       "</table>\n",
       "</div>"
      ],
      "text/plain": [
       "          GLCM_pan   Mean_Green     Mean_Red     Mean_NIR       SD_pan\n",
       "count  4339.000000  4339.000000  4339.000000  4339.000000  4339.000000\n",
       "mean    126.831298   233.906908   117.292439   534.104683    24.924588\n",
       "std      13.735836    60.757687    60.711159   154.495500    11.008303\n",
       "min       0.000000   164.625000    59.142857    86.500000     0.000000\n",
       "25%     118.589080   206.000000    91.975244   422.875000    18.009143\n",
       "50%     127.479167   221.454545   101.727273   528.500000    23.612444\n",
       "75%     135.043591   241.791304   116.866071   643.087037    29.899148\n",
       "max     183.281250   955.714286   746.333333  1005.516129   156.508431"
      ]
     },
     "execution_count": 30,
     "metadata": {},
     "output_type": "execute_result"
    }
   ],
   "source": [
    "data.describe()"
   ]
  },
  {
   "cell_type": "markdown",
   "metadata": {},
   "source": [
    "Проверили, что все элементы таблицы заполнены"
   ]
  },
  {
   "cell_type": "markdown",
   "metadata": {},
   "source": [
    "# Нормализация количественных признаков"
   ]
  },
  {
   "cell_type": "markdown",
   "metadata": {},
   "source": [
    "Т.к. категориальных признаков у нас не осталось, сразу переходим к обработке количнственных признаков."
   ]
  },
  {
   "cell_type": "code",
   "execution_count": 31,
   "metadata": {},
   "outputs": [
    {
     "data": {
      "text/html": [
       "<div>\n",
       "<table border=\"1\" class=\"dataframe\">\n",
       "  <thead>\n",
       "    <tr style=\"text-align: right;\">\n",
       "      <th></th>\n",
       "      <th>GLCM_pan</th>\n",
       "      <th>Mean_Green</th>\n",
       "      <th>Mean_Red</th>\n",
       "      <th>Mean_NIR</th>\n",
       "      <th>SD_pan</th>\n",
       "    </tr>\n",
       "  </thead>\n",
       "  <tbody>\n",
       "    <tr>\n",
       "      <th>count</th>\n",
       "      <td>4.339000e+03</td>\n",
       "      <td>4.339000e+03</td>\n",
       "      <td>4.339000e+03</td>\n",
       "      <td>4.339000e+03</td>\n",
       "      <td>4.339000e+03</td>\n",
       "    </tr>\n",
       "    <tr>\n",
       "      <th>mean</th>\n",
       "      <td>-2.097403e-14</td>\n",
       "      <td>-6.961124e-13</td>\n",
       "      <td>-2.434546e-13</td>\n",
       "      <td>-1.898654e-12</td>\n",
       "      <td>6.409746e-14</td>\n",
       "    </tr>\n",
       "    <tr>\n",
       "      <th>std</th>\n",
       "      <td>1.373584e+01</td>\n",
       "      <td>6.075769e+01</td>\n",
       "      <td>6.071116e+01</td>\n",
       "      <td>1.544955e+02</td>\n",
       "      <td>1.100830e+01</td>\n",
       "    </tr>\n",
       "    <tr>\n",
       "      <th>min</th>\n",
       "      <td>-1.268313e+02</td>\n",
       "      <td>-6.928191e+01</td>\n",
       "      <td>-5.814958e+01</td>\n",
       "      <td>-4.476047e+02</td>\n",
       "      <td>-2.492459e+01</td>\n",
       "    </tr>\n",
       "    <tr>\n",
       "      <th>25%</th>\n",
       "      <td>-8.242218e+00</td>\n",
       "      <td>-2.790691e+01</td>\n",
       "      <td>-2.531719e+01</td>\n",
       "      <td>-1.112297e+02</td>\n",
       "      <td>-6.915445e+00</td>\n",
       "    </tr>\n",
       "    <tr>\n",
       "      <th>50%</th>\n",
       "      <td>6.478686e-01</td>\n",
       "      <td>-1.245236e+01</td>\n",
       "      <td>-1.556517e+01</td>\n",
       "      <td>-5.604683e+00</td>\n",
       "      <td>-1.312144e+00</td>\n",
       "    </tr>\n",
       "    <tr>\n",
       "      <th>75%</th>\n",
       "      <td>8.212293e+00</td>\n",
       "      <td>7.884397e+00</td>\n",
       "      <td>-4.263671e-01</td>\n",
       "      <td>1.089824e+02</td>\n",
       "      <td>4.974560e+00</td>\n",
       "    </tr>\n",
       "    <tr>\n",
       "      <th>max</th>\n",
       "      <td>5.644995e+01</td>\n",
       "      <td>7.218074e+02</td>\n",
       "      <td>6.290409e+02</td>\n",
       "      <td>4.714114e+02</td>\n",
       "      <td>1.315838e+02</td>\n",
       "    </tr>\n",
       "  </tbody>\n",
       "</table>\n",
       "</div>"
      ],
      "text/plain": [
       "           GLCM_pan    Mean_Green      Mean_Red      Mean_NIR        SD_pan\n",
       "count  4.339000e+03  4.339000e+03  4.339000e+03  4.339000e+03  4.339000e+03\n",
       "mean  -2.097403e-14 -6.961124e-13 -2.434546e-13 -1.898654e-12  6.409746e-14\n",
       "std    1.373584e+01  6.075769e+01  6.071116e+01  1.544955e+02  1.100830e+01\n",
       "min   -1.268313e+02 -6.928191e+01 -5.814958e+01 -4.476047e+02 -2.492459e+01\n",
       "25%   -8.242218e+00 -2.790691e+01 -2.531719e+01 -1.112297e+02 -6.915445e+00\n",
       "50%    6.478686e-01 -1.245236e+01 -1.556517e+01 -5.604683e+00 -1.312144e+00\n",
       "75%    8.212293e+00  7.884397e+00 -4.263671e-01  1.089824e+02  4.974560e+00\n",
       "max    5.644995e+01  7.218074e+02  6.290409e+02  4.714114e+02  1.315838e+02"
      ]
     },
     "execution_count": 31,
     "metadata": {},
     "output_type": "execute_result"
    }
   ],
   "source": [
    "data_numerical = data[numerical_columns]\n",
    "data_numerical = (data_numerical - data_numerical.mean())\n",
    "data_numerical.describe()"
   ]
  },
  {
   "cell_type": "markdown",
   "metadata": {},
   "source": [
    "Приведем каждый количественный признак к нулевому среднему и единичному среднеквадратичному отклонению"
   ]
  },
  {
   "cell_type": "code",
   "execution_count": 32,
   "metadata": {
    "collapsed": true
   },
   "outputs": [],
   "source": [
    "X = data\n",
    "feature_names = X.columns"
   ]
  },
  {
   "cell_type": "code",
   "execution_count": 33,
   "metadata": {},
   "outputs": [
    {
     "data": {
      "text/plain": [
       "pandas.indexes.base.Index"
      ]
     },
     "execution_count": 33,
     "metadata": {},
     "output_type": "execute_result"
    }
   ],
   "source": [
    "type(feature_names)"
   ]
  },
  {
   "cell_type": "code",
   "execution_count": 34,
   "metadata": {},
   "outputs": [
    {
     "data": {
      "text/plain": [
       "Index([u'GLCM_pan', u'Mean_Green', u'Mean_Red', u'Mean_NIR', u'SD_pan'], dtype='object')"
      ]
     },
     "execution_count": 34,
     "metadata": {},
     "output_type": "execute_result"
    }
   ],
   "source": [
    "feature_names"
   ]
  },
  {
   "cell_type": "markdown",
   "metadata": {},
   "source": [
    "для удобства разделяем блок с фитчами и выделенный признак(класс в нашем случае хранится в векторе y)"
   ]
  },
  {
   "cell_type": "code",
   "execution_count": 36,
   "metadata": {},
   "outputs": [
    {
     "name": "stdout",
     "output_type": "stream",
     "text": [
      "(4339, 5)\n",
      "(4339L,)\n"
     ]
    }
   ],
   "source": [
    "print(X.shape)\n",
    "print(y.shape)\n",
    "N, d = X.shape"
   ]
  },
  {
   "cell_type": "code",
   "execution_count": 37,
   "metadata": {},
   "outputs": [
    {
     "name": "stdout",
     "output_type": "stream",
     "text": [
      "(3037, 1302)\n"
     ]
    }
   ],
   "source": [
    "from sklearn.model_selection import train_test_split\n",
    "X_train, X_test, y_train, y_test = train_test_split(X, y, test_size = 0.3, random_state = 1)\n",
    "\n",
    "N_train, _ = X_train.shape \n",
    "N_test,  _ = X_test.shape \n",
    "\n",
    "print(N_train, N_test)"
   ]
  },
  {
   "cell_type": "markdown",
   "metadata": {},
   "source": [
    "делим нашу выборку на обучающую и тестовую(70% и 30%)."
   ]
  },
  {
   "cell_type": "markdown",
   "metadata": {},
   "source": [
    "# kNN"
   ]
  },
  {
   "cell_type": "code",
   "execution_count": 38,
   "metadata": {},
   "outputs": [
    {
     "data": {
      "text/plain": [
       "KNeighborsClassifier(algorithm='auto', leaf_size=30, metric='minkowski',\n",
       "           metric_params=None, n_jobs=1, n_neighbors=5, p=2,\n",
       "           weights='uniform')"
      ]
     },
     "execution_count": 38,
     "metadata": {},
     "output_type": "execute_result"
    }
   ],
   "source": [
    "from sklearn.neighbors import KNeighborsClassifier\n",
    "\n",
    "knn = KNeighborsClassifier(n_neighbors = 5)\n",
    "knn.fit(X_train, y_train)"
   ]
  },
  {
   "cell_type": "markdown",
   "metadata": {},
   "source": [
    "По умолчанию обычно берут отправное значение равное 5ти для kNN.Итак, проверим значение ошибки для данной ситуации."
   ]
  },
  {
   "cell_type": "code",
   "execution_count": 39,
   "metadata": {
    "scrolled": true
   },
   "outputs": [
    {
     "name": "stdout",
     "output_type": "stream",
     "text": [
      "(0.0079025353967731322, 0.009984639016897081)\n"
     ]
    }
   ],
   "source": [
    "knn\n",
    "y_train_predict = knn.predict(X_train)\n",
    "y_test_predict = knn.predict(X_test)\n",
    "\n",
    "err_train = np.mean(y_train != y_train_predict)\n",
    "err_test  = np.mean(y_test  != y_test_predict)\n",
    "\n",
    "print(err_train, err_test)"
   ]
  },
  {
   "cell_type": "code",
   "execution_count": 40,
   "metadata": {},
   "outputs": [
    {
     "data": {
      "text/plain": [
       "0.0099846390168970567"
      ]
     },
     "execution_count": 40,
     "metadata": {},
     "output_type": "execute_result"
    }
   ],
   "source": [
    "err_test = 1 - knn.score(X_test, y_test)\n",
    "err_test"
   ]
  },
  {
   "cell_type": "markdown",
   "metadata": {},
   "source": [
    "Посчитаем ошибку другим способом"
   ]
  },
  {
   "cell_type": "code",
   "execution_count": 41,
   "metadata": {
    "scrolled": true
   },
   "outputs": [
    {
     "name": "stdout",
     "output_type": "stream",
     "text": [
      "[[1280    0]\n",
      " [  13    9]]\n"
     ]
    }
   ],
   "source": [
    "from sklearn.metrics import confusion_matrix\n",
    "\n",
    "print(confusion_matrix(y_test, y_test_predict))"
   ]
  },
  {
   "cell_type": "markdown",
   "metadata": {},
   "source": [
    "Построим матрицу Ошибок, чтобы более наглядно увидеть качество работы классификатора "
   ]
  },
  {
   "cell_type": "markdown",
   "metadata": {},
   "source": [
    "# Подбор параметров "
   ]
  },
  {
   "cell_type": "markdown",
   "metadata": {},
   "source": [
    "Поскольку для kNN огромное значение имеет параметр k(какое количество соседние мы рассматриваем), стоит рассмотреть разные значения k и с помощью нахождения минимумальной ошибки перекрестного контроля найти оптимальное значение k. \n",
    "Возьмем значения k: [1,2,3,5,7,9,11,15,20,35,55]"
   ]
  },
  {
   "cell_type": "code",
   "execution_count": 43,
   "metadata": {},
   "outputs": [
    {
     "name": "stdout",
     "output_type": "stream",
     "text": [
      "(0.0082318077049720051, 1)\n"
     ]
    }
   ],
   "source": [
    "from sklearn.model_selection import GridSearchCV\n",
    "nnb = [1,2,3,5,7,9,11,15,20,35,55]\n",
    "knn = KNeighborsClassifier()\n",
    "grid = GridSearchCV(knn, param_grid = {'n_neighbors': nnb}, cv=10)\n",
    "grid.fit(X_train, y_train)\n",
    "\n",
    "best_cv_err = 1 - grid.best_score_\n",
    "best_n_neighbors = grid.best_estimator_.n_neighbors\n",
    "print(best_cv_err, best_n_neighbors)"
   ]
  },
  {
   "cell_type": "markdown",
   "metadata": {},
   "source": [
    "Похоже, минимальная ошибка получается при k=1. Проверим ошибку"
   ]
  },
  {
   "cell_type": "code",
   "execution_count": 44,
   "metadata": {},
   "outputs": [
    {
     "name": "stdout",
     "output_type": "stream",
     "text": [
      "(0.0, 0.0076804915514592934)\n"
     ]
    }
   ],
   "source": [
    "knn = KNeighborsClassifier(n_neighbors = best_n_neighbors).fit(X_train, y_train)\n",
    "\n",
    "err_train = np.mean(y_train != knn.predict(X_train))\n",
    "err_test  = np.mean(y_test  != knn.predict(X_test))\n",
    "\n",
    "print(err_train, err_test)"
   ]
  },
  {
   "cell_type": "markdown",
   "metadata": {},
   "source": [
    "Можем предположить, что при найденных параметрах ошибка определении класса объекта составляет 0.008.\n",
    "Стоит отметить, что классификация в данном случае и обучение с тестированием проводилось на тренировочных данных.\n",
    "Есть идея объединить и перемешать таблицы с тестовыми и тренировочными данными для получения более универсального классификатора."
   ]
  }
 ],
 "metadata": {
  "kernelspec": {
   "display_name": "Python 3",
   "language": "python",
   "name": "python3"
  },
  "language_info": {
   "codemirror_mode": {
    "name": "ipython",
    "version": 3
   },
   "file_extension": ".py",
   "mimetype": "text/x-python",
   "name": "python",
   "nbconvert_exporter": "python",
   "pygments_lexer": "ipython3",
   "version": "3.7.2"
  }
 },
 "nbformat": 4,
 "nbformat_minor": 2
}
